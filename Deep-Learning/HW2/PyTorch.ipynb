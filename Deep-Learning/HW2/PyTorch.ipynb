{
  "nbformat": 4,
  "nbformat_minor": 0,
  "metadata": {
    "kernelspec": {
      "name": "python3",
      "display_name": "Python 3"
    },
    "colab": {
      "name": "PyTorch.ipynb",
      "provenance": [],
      "collapsed_sections": []
    },
    "accelerator": "GPU"
  },
  "cells": [
    {
      "cell_type": "markdown",
      "metadata": {
        "id": "N84g5_-HTnEF",
        "colab_type": "text"
      },
      "source": [
        "# Environment setup\n",
        "Follow the tutorial about how to utilize Google Colab but **don't install PyTorch** as mentioned in the blog post.\n",
        "\n",
        "Turkish:\n",
        "https://medium.com/deep-learning-turkiye/google-colab-ile-%C3%BCcretsiz-gpu-kullan%C4%B1m%C4%B1-30fdb7dd822e\n",
        "\n",
        "English:\n",
        "https://medium.com/deep-learning-turkey/google-colab-free-gpu-tutorial-e113627b9f5d\n",
        "\n"
      ]
    },
    {
      "cell_type": "code",
      "metadata": {
        "id": "JiqbjobITnEK",
        "colab_type": "code",
        "colab": {}
      },
      "source": [
        "# This part probably will be enough for utilizing Drive in Colab\n",
        "# but examine links above if you encounter with problems.\n",
        "#from google.colab import drive\n",
        "#drive.mount('/content/drive/', force_remount=True)"
      ],
      "execution_count": 1,
      "outputs": []
    },
    {
      "cell_type": "markdown",
      "metadata": {
        "id": "qjLjuRIBTnET",
        "colab_type": "text"
      },
      "source": [
        "\n",
        "# Now, you will work on the problem of Insect Pest Recognition using IP102 data, where you have 8 classes\n",
        "\n",
        "After having mounted the Jupyter Notebook to Google Drive, navigate the following address:\n",
        "\n",
        "https://drive.google.com/open?id=1qrl7JtGtOEtcYAbD5wX2D538VQNmeC8C\n",
        "\n",
        "Add this folder entirely to your Google Drive. If you have done it correctly, then you should be able to see IP102 in your drive.\n",
        "\n",
        "You can examine info about the dataset in this github repo: \n",
        "https://github.com/xpwu95/IP102\n",
        "\n"
      ]
    },
    {
      "cell_type": "markdown",
      "metadata": {
        "id": "jdR0Rx5kTnEV",
        "colab_type": "text"
      },
      "source": [
        "### Don't forget to choose the right runtime from the menu above. (GPU should be selected)"
      ]
    },
    {
      "cell_type": "code",
      "metadata": {
        "id": "NSPp5ZwpTnEX",
        "colab_type": "code",
        "colab": {
          "base_uri": "https://localhost:8080/",
          "height": 326
        },
        "outputId": "d2a97daf-6a53-4077-bd45-e8e0a3bec94a"
      },
      "source": [
        "!nvidia-smi\n",
        "# This command should return some information about the GPU status if the runtime is right. \n",
        "# In addition to that, if you encounter memory issues, you can diagnose your model by this command."
      ],
      "execution_count": 2,
      "outputs": [
        {
          "output_type": "stream",
          "text": [
            "Sun Nov 24 07:28:20 2019       \n",
            "+-----------------------------------------------------------------------------+\n",
            "| NVIDIA-SMI 440.33.01    Driver Version: 418.67       CUDA Version: 10.1     |\n",
            "|-------------------------------+----------------------+----------------------+\n",
            "| GPU  Name        Persistence-M| Bus-Id        Disp.A | Volatile Uncorr. ECC |\n",
            "| Fan  Temp  Perf  Pwr:Usage/Cap|         Memory-Usage | GPU-Util  Compute M. |\n",
            "|===============================+======================+======================|\n",
            "|   0  Tesla K80           Off  | 00000000:00:04.0 Off |                    0 |\n",
            "| N/A   35C    P8    26W / 149W |      0MiB / 11441MiB |      0%      Default |\n",
            "+-------------------------------+----------------------+----------------------+\n",
            "                                                                               \n",
            "+-----------------------------------------------------------------------------+\n",
            "| Processes:                                                       GPU Memory |\n",
            "|  GPU       PID   Type   Process name                             Usage      |\n",
            "|=============================================================================|\n",
            "|  No running processes found                                                 |\n",
            "+-----------------------------------------------------------------------------+\n"
          ],
          "name": "stdout"
        }
      ]
    },
    {
      "cell_type": "markdown",
      "metadata": {
        "id": "n__PZ_Z8TnEf",
        "colab_type": "text"
      },
      "source": [
        "You are free to utilize Pytorch methods in this part of the Homework. \n",
        "You will be using pretained models ResNet50, DenseNet-121 and your own model.\n",
        "\n",
        "Below, you will find required modules loaded. "
      ]
    },
    {
      "cell_type": "code",
      "metadata": {
        "id": "KuRUj7l2TnEh",
        "colab_type": "code",
        "colab": {}
      },
      "source": [
        "# All libraries are already presented in Colab Servers, we don't need to install anything with pip\n",
        "import torch\n",
        "import torch.nn as nn\n",
        "import torch.optim as optim\n",
        "from torch.utils.data import DataLoader, Dataset\n",
        "from torchvision.transforms.functional import normalize, resize, to_tensor\n",
        "from PIL import Image\n",
        "import os\n",
        "import numpy as np\n",
        "import matplotlib.pyplot as plt\n",
        "%matplotlib inline"
      ],
      "execution_count": 3,
      "outputs": []
    },
    {
      "cell_type": "markdown",
      "metadata": {
        "id": "SEXuju6VTnEn",
        "colab_type": "text"
      },
      "source": [
        "## DataLoader and Dataset\n",
        "Here, we provide you an fully functional Dataset but to ensure that you understood how it works. You can change some parts if you want to train with subset of dataset at first."
      ]
    },
    {
      "cell_type": "code",
      "metadata": {
        "id": "z4RqURcoTnEp",
        "colab_type": "code",
        "colab": {}
      },
      "source": [
        "def register_extension(id, extension): Image.EXTENSION[extension.lower()] = id.upper()\n",
        "Image.register_extension = register_extension\n",
        "def register_extensions(id, extensions): \n",
        "    for extension in extensions: register_extension(id, extension)\n",
        "Image.register_extensions = register_extensions\n",
        "\n",
        "### The code below is to make you be able to load by using Pillow.\n",
        "class IPLoader(Dataset):\n",
        "    def __init__(self, path, mode='train'):\n",
        "        self.class_num = 8\n",
        "        self.images_splitted = '{}/Images_Splitted/'.format(path)\n",
        "        self.file_path = '{}/{}.txt'.format(path,mode)\n",
        "        self.mode = mode\n",
        "        self.images = []\n",
        "        with open(self.file_path, 'r') as f:\n",
        "             self.images = f.readlines()\n",
        "        print(len(self.images))\n",
        "        \n",
        "    # There are 102 classes in original dataset but we will use 8 super classes in order to classify easily.\n",
        "    def get_super_label(self,num):\n",
        "        if num <= 14:\n",
        "          return 0\n",
        "        elif num <= 27:\n",
        "          return 1\n",
        "        elif num <= 36:\n",
        "          return 2\n",
        "        elif num <= 44:\n",
        "          return 3\n",
        "        elif num <= 57:\n",
        "          return 4\n",
        "        elif num <= 73:\n",
        "          return 5\n",
        "        elif num <= 92:\n",
        "          return 6\n",
        "        else:\n",
        "          return 7 \n",
        "            \n",
        "    # This method normalizes each image individually. You may want to normalize it by using ImageNet statistics\n",
        "    # If you would like to fine tune so feel free to do changes\n",
        "    def preprocess(self, x):\n",
        "        x = resize(x, (224, 224)) # Resnet, Densenet\n",
        "        #x = resize(x, (256, 256)) # You can use different input size for your model such as 256x256\n",
        "        x = to_tensor(x)\n",
        "        #normalize(x,  mean=[el.mean() for el in x] ,std=[el.std() for el in x]) # Channel Standard Normalization\n",
        "        x = normalize(x,mean=[0.485, 0.456, 0.406], std=[0.229, 0.224, 0.225]) # Imagenet Normalization\n",
        "        return x\n",
        "    \n",
        "    # This method basically loads image from the file system\n",
        "    def load(self, path):\n",
        "        img = Image.open(path)\n",
        "        img.load()\n",
        "        return img\n",
        "\n",
        "    # This method gets one item in order to construct batches\n",
        "    def __getitem__(self, ix):\n",
        "        image = self.images[ix]\n",
        "        line = image.split()\n",
        "        path = '{}{}_{}/'.format(self.images_splitted,self.mode,ix // 1000)\n",
        "        \n",
        "        #Get its relative path and label\n",
        "        data_path = '{}{}'.format(path,line[0])\n",
        "        label = self.get_super_label(int(line[1]))\n",
        "        \n",
        "        # Load image\n",
        "        data = self.load(data_path)\n",
        "\n",
        "        #There are some files with 4 channels we take only RGB channels of them\n",
        "        if not np.array(data).shape[2] == 3:\n",
        "            data = np.array(data)\n",
        "            data = data[:,:,:3]\n",
        "            data = Image.fromarray(data)\n",
        "        \n",
        "        # Do Prepocessing on data\n",
        "        data_normalized = self.preprocess(data)\n",
        "        \n",
        "        # Then return the data and its label.\n",
        "        return data_normalized, label\n",
        "        \n",
        "        \n",
        "    # This method gives number of samples in dataset\n",
        "    def __len__(self):\n",
        "        return len(self.images)"
      ],
      "execution_count": 4,
      "outputs": []
    },
    {
      "cell_type": "markdown",
      "metadata": {
        "id": "h3GTLMFGTnEu",
        "colab_type": "text"
      },
      "source": [
        "# Load separately ResNet and DenseNet models\n",
        "\n",
        "You can find tutorials on how to load those models at pytorch.org . Don't forget to use pretrained=True if you wish to do finetuning."
      ]
    },
    {
      "cell_type": "code",
      "metadata": {
        "id": "ksw1S205TnEv",
        "colab_type": "code",
        "colab": {}
      },
      "source": [
        "# Load models here\n",
        "import torchvision\n",
        "# We use 8 super class to classify\n",
        "num_classes = 8 \n",
        "resnet50 = torchvision.models.resnet50(pretrained=True)\n",
        "for param in resnet50.parameters():\n",
        "    param.requires_grad = False\n",
        "resnet50.fc = nn.Linear(in_features=2048, out_features=num_classes)\n",
        "\n",
        "for name, param in resnet50.named_parameters():\n",
        "    if \"layer4\" in name:\n",
        "        param.requires_grad = True\n",
        "\n",
        "densenet = torchvision.models.densenet121(pretrained=True)\n",
        "# Freeze all layers except last 3 layers and classification layer\n",
        "for param in densenet.parameters():\n",
        "    param.requires_grad = False\n",
        "densenet.classifier = nn.Linear(in_features=1024, out_features=num_classes)\n",
        "\n",
        "for name, param in densenet.named_parameters():\n",
        "    if \"denselayer16\" in name or \"denselayer15\" in name or \"denselayer14\" in name:\n",
        "        param.requires_grad = True\n"
      ],
      "execution_count": 5,
      "outputs": []
    },
    {
      "cell_type": "markdown",
      "metadata": {
        "id": "iFUOrGkcTnE0",
        "colab_type": "text"
      },
      "source": [
        "# Additionally, build your own model which is different from the other models, train on the IP dataset\n",
        "**Report your loss curves at the end of the notebook**"
      ]
    },
    {
      "cell_type": "code",
      "metadata": {
        "id": "jIZSvIMfTnE2",
        "colab_type": "code",
        "colab": {}
      },
      "source": [
        "# Model is consist of 10 convolution layer with batchnorm and ReLU activation\n",
        "# Model is created by using same logic with the VGG networks that use 3x3 convolutions\n",
        "# Number of channels throughout the network are below: \n",
        "# [3 -> 64 -> 64 -> 128 -> 128 -> 256 -> 256 -> 512 -> 512 -> 512 -> Linear classification ]\n",
        "# After two convolutional layers, maxpool is used with stride 2 and kernel size 2\n",
        "# Maxpooling layers are effective to decrease the number of parameters.\n",
        "# Note that this model needs high amount of training from scratch (probably 10 hours) for good accuracies.\n",
        "# Training on the Google Colab takes so much time to effectively train the network.\n",
        "class YourModel(nn.Module):\n",
        "    def __init__(self):\n",
        "        # TO DO: Your neural network design\n",
        "        super(YourModel, self).__init__()\n",
        "        self.avgpool = nn.AdaptiveAvgPool2d((7, 7))\n",
        "        self.extractor = nn.Sequential(nn.Conv2d(3,64, kernel_size=3, padding=1),\n",
        "                                nn.BatchNorm2d(64),\n",
        "                                nn.ReLU(inplace=True),\n",
        "                                nn.Conv2d(64,64, kernel_size=3, padding=1),\n",
        "                                nn.BatchNorm2d(64),\n",
        "                                nn.ReLU(inplace=True),\n",
        "                                nn.MaxPool2d(kernel_size=2, stride=2),\n",
        "                                nn.Conv2d(64,128, kernel_size=3, padding=1),\n",
        "                                nn.BatchNorm2d(128),\n",
        "                                nn.ReLU(inplace=True),\n",
        "                                nn.Conv2d(128,128, kernel_size=3, padding=1),\n",
        "                                nn.BatchNorm2d(128),\n",
        "                                nn.ReLU(inplace=True),                                        \n",
        "                                nn.MaxPool2d(kernel_size=2, stride=2),\n",
        "                                nn.Conv2d(128,256, kernel_size=3, padding=1),\n",
        "                                nn.BatchNorm2d(256),\n",
        "                                nn.ReLU(inplace=True),\n",
        "                                nn.Conv2d(256,256, kernel_size=3, padding=1),\n",
        "                                nn.BatchNorm2d(256),\n",
        "                                nn.ReLU(inplace=True),                                        \n",
        "                                nn.MaxPool2d(kernel_size=2, stride=2),    \n",
        "                                nn.Conv2d(256,512, kernel_size=3, padding=1),\n",
        "                                nn.BatchNorm2d(512),\n",
        "                                nn.ReLU(inplace=True),\n",
        "                                nn.Conv2d(512,512, kernel_size=3, padding=1),\n",
        "                                nn.BatchNorm2d(512),\n",
        "                                nn.ReLU(inplace=True),                                        \n",
        "                                nn.MaxPool2d(kernel_size=2, stride=2),  \n",
        "                                nn.Conv2d(512,512, kernel_size=3, padding=1),\n",
        "                                nn.BatchNorm2d(512),\n",
        "                                nn.ReLU(inplace=True),\n",
        "                                nn.Conv2d(512,512, kernel_size=3, padding=1),\n",
        "                                nn.BatchNorm2d(512),\n",
        "                                nn.ReLU(inplace=True),                                        \n",
        "                                nn.MaxPool2d(kernel_size=2, stride=2)\n",
        "                                )\n",
        "        self.classifier = nn.Sequential(\n",
        "            nn.Linear(512 * 7 * 7, 4096),\n",
        "            nn.ReLU(True),\n",
        "            nn.Dropout(),\n",
        "            nn.Linear(4096, 4096),\n",
        "            nn.ReLU(True),\n",
        "            nn.Dropout(),\n",
        "            nn.Linear(4096, num_classes),\n",
        "            nn.Softmax()\n",
        "        )\n",
        "        \n",
        "    def forward(self, x):\n",
        "        # TO DO: Your neural network design\n",
        "        x = self.extractor(x)\n",
        "        x = self.avgpool(x)\n",
        "        x = torch.flatten(x, 1)\n",
        "        out = self.classifier(x)\n",
        "        return out"
      ],
      "execution_count": 6,
      "outputs": []
    },
    {
      "cell_type": "code",
      "metadata": {
        "id": "0CWGVwGeTnE8",
        "colab_type": "code",
        "colab": {}
      },
      "source": [
        "###  Here are some training parameters\n",
        "batch_size = 32\n",
        "learning_rate = 3e-2\n",
        "regularization_rate = 0\n",
        "n_epochs = 10\n",
        "use_gpu = True\n",
        "test_every = 1\n",
        "test_every_iteration = 100\n",
        "###"
      ],
      "execution_count": 7,
      "outputs": []
    },
    {
      "cell_type": "code",
      "metadata": {
        "id": "cf9Gr9LETnFA",
        "colab_type": "code",
        "colab": {
          "base_uri": "https://localhost:8080/",
          "height": 72
        },
        "outputId": "62914959-45bb-4632-f5fb-2a5f12d347d5"
      },
      "source": [
        "dataset_train = IPLoader(path='drive/My Drive/IP102', mode='train')\n",
        "dataset_test = IPLoader(path='drive/My Drive/IP102', mode='test')\n",
        "dataset_val = IPLoader(path='drive/My Drive/IP102', mode='val')\n",
        "\n",
        "train_loader = DataLoader(dataset=dataset_train, batch_size=batch_size, num_workers=4, shuffle=True)\n",
        "test_loader = DataLoader(dataset=dataset_test, batch_size=batch_size, num_workers=4, shuffle=False)\n",
        "val_loader = DataLoader(dataset=dataset_val, batch_size=batch_size, num_workers=4, shuffle=False)"
      ],
      "execution_count": 8,
      "outputs": [
        {
          "output_type": "stream",
          "text": [
            "45095\n",
            "10000\n",
            "7508\n"
          ],
          "name": "stdout"
        }
      ]
    },
    {
      "cell_type": "markdown",
      "metadata": {
        "id": "AQ_0v7BhTnFF",
        "colab_type": "text"
      },
      "source": [
        "** Finetune/Train the loaded/designed model here:**\n",
        "\n",
        "Don't forget to include appropriate regularizations.\n",
        "Choose appropriate set of hyperparameters such as Learning Rate etc.\n",
        "\n",
        "You may insert new cells."
      ]
    },
    {
      "cell_type": "code",
      "metadata": {
        "id": "6db24o6oTnFH",
        "colab_type": "code",
        "colab": {}
      },
      "source": [
        "def train(model, criteria, optimizer):\n",
        "    # It modifies the behaviour of modules like BatchNorm and Dropout for training purposes\n",
        "    model.train()\n",
        "    if use_gpu:\n",
        "        model.cuda()\n",
        "        criteria.cuda()\n",
        "\n",
        "    # Some example diagnostics.\n",
        "\n",
        "    # Loss for every iteration\n",
        "    losses_iter_train = []\n",
        "    # Loss for epoch (averaging the iteration-wise loss)\n",
        "    losses_epoch_train = []\n",
        "    accuracy_iter_train = []\n",
        "    accuracy_epoch_train = []\n",
        "\n",
        "    losses_iter_val = []\n",
        "    losses_epoch_val = []\n",
        "    accuracy_iter_val = []\n",
        "    accuracy_epoch_val = []\n",
        "\n",
        "    # Write the training loop\n",
        "    for epoch in range(n_epochs):\n",
        "        for ix, data in enumerate(train_loader):\n",
        "            optimizer.zero_grad()\n",
        "            img, label = data\n",
        "            if use_gpu:\n",
        "                img = img.cuda()\n",
        "                label = label.cuda()\n",
        "            \n",
        "            # Give images to model\n",
        "            output = model(img)\n",
        "            # Calculate loss \n",
        "            loss = criteria(output,label)\n",
        "            losses_iter_train.append(loss.item())\n",
        "            # Check accuracy of the iteration\n",
        "            predicts = torch.argmax(output,dim=1)\n",
        "            true_p = torch.sum(predicts == label).cpu().numpy()\n",
        "            accuracy_iter_train.append(true_p*100/predicts.shape[0])\n",
        "            # Back propagate the model\n",
        "            loss.backward()\n",
        "            optimizer.step()\n",
        "            if ix % test_every_iteration == 0:\n",
        "                print('Iteration [%1d /%1d] Training Loss: %.3f Training Accuracy: %.3f' % (ix+1, len(train_loader), losses_iter_train[-1],accuracy_iter_train[-1]))\n",
        "        if epoch % test_every == 0:\n",
        "            with torch.no_grad():\n",
        "                # Measure the performance in validation set.\n",
        "                model.eval()\n",
        "                for iy, evaldata in enumerate(val_loader):\n",
        "                    # Give images to model\n",
        "                    img, label = evaldata\n",
        "                    if use_gpu:\n",
        "                        img = img.cuda()\n",
        "                        label = label.cuda()                \n",
        "                    output = model(img)\n",
        "                    # Calculate loss \n",
        "                    loss = criteria(output,label)\n",
        "                    losses_iter_val.append(loss.item())\n",
        "                    # Check accuracy of the iteration\n",
        "                    predicts = torch.argmax(output,dim=1)\n",
        "                    true_p = torch.sum(predicts == label).cpu().numpy()\n",
        "                    accuracy_iter_val.append(true_p*100/predicts.shape[0]) \n",
        "        # Calculate epoch metrics     \n",
        "        losses_epoch_val.append(np.mean(losses_iter_val[-len(val_loader):]))\n",
        "        accuracy_epoch_val.append(np.mean(accuracy_iter_val[-len(val_loader):]))\n",
        "        # Calculate epoch metrics\n",
        "        losses_epoch_train.append(np.mean(losses_iter_train[-len(train_loader):]))\n",
        "        accuracy_epoch_train.append(np.mean(accuracy_iter_train[-len(train_loader):]))\n",
        "        print('Epoch [%1d /%1d] Training Loss: %.3f Training Accuracy: %.3f' % (epoch + 1, n_epochs, losses_epoch_train[-1], accuracy_epoch_train[-1]))\n",
        "        if epoch%test_every == 0: print('Epoch [%1d /%1d] Validation Loss: %.3f Validation Accuracy: %.3f' % (epoch + 1, n_epochs, losses_epoch_val[-1], accuracy_epoch_val[-1]))\n",
        "        model.train()\n",
        "    metric_dict = {}\n",
        "    metric_dict[\"losses_iter_train\"]=losses_iter_train\n",
        "    metric_dict[\"losses_epoch_train\"]=losses_epoch_train\n",
        "    metric_dict[\"accuracy_iter_train\"]=accuracy_iter_train\n",
        "    metric_dict[\"accuracy_epoch_train\"]=accuracy_epoch_train\n",
        "    metric_dict[\"losses_iter_val\"]=losses_iter_val\n",
        "    metric_dict[\"losses_epoch_val\"]=losses_epoch_val\n",
        "    metric_dict[\"accuracy_iter_val\"]=accuracy_iter_val\n",
        "    metric_dict[\"accuracy_epoch_val\"]=accuracy_epoch_val\n",
        "    return  metric_dict\n"
      ],
      "execution_count": 9,
      "outputs": []
    },
    {
      "cell_type": "markdown",
      "metadata": {
        "id": "CZj_VmFiTnFL",
        "colab_type": "text"
      },
      "source": [
        "### Measure the performance against test set\n",
        "Complete the code"
      ]
    },
    {
      "cell_type": "code",
      "metadata": {
        "id": "Nx_OGJ80TnFN",
        "colab_type": "code",
        "colab": {}
      },
      "source": [
        "def test(model):\n",
        "    # It modifies the behaviour of modules like BatchNorm and Dropout for test purposes\n",
        "    # Dropout no longer works when .eval() is called.\n",
        "    # BatchNorm uses the learned parameters\n",
        "    true_false_predicts = []\n",
        "    model.eval()\n",
        "\n",
        "    with torch.no_grad():\n",
        "        for data in test_loader:\n",
        "            img, label = data\n",
        "            if use_gpu:\n",
        "                img = img.cuda()\n",
        "                label = label.cuda()\n",
        "            \n",
        "            output = model(img)\n",
        "            # Calculate loss \n",
        "            predicts = torch.argmax(output,dim=1)\n",
        "            true_p = torch.sum(predicts == label).cpu().numpy()\n",
        "            true_false_predicts.append((true_p,len(predicts)-true_p))\n",
        "\n",
        "        # Calculate accuracy for all dataset\n",
        "        total_true = 0\n",
        "        total_false = 0\n",
        "        for t,f in true_false_predicts:\n",
        "            total_true += t\n",
        "            total_false+= f\n",
        "\n",
        "        accuracy = total_true*100/(total_true+total_false)\n",
        "        print(\"Test Accuracy: {}\".format(accuracy))\n",
        "        return accuracy"
      ],
      "execution_count": 10,
      "outputs": []
    },
    {
      "cell_type": "markdown",
      "metadata": {
        "id": "lzz5azB3TnFR",
        "colab_type": "text"
      },
      "source": [
        "**Run diagnostics for each model (ResNet and DenseNet). Avoid overfitting and underfitting as much as possible. Try to get highest validation and test accuracy(at least 60%)**"
      ]
    },
    {
      "cell_type": "markdown",
      "metadata": {
        "id": "Q4U-CjvXTnFS",
        "colab_type": "text"
      },
      "source": [
        "**Plot the training and validation losses versus number of iterations or epochs for ResNet50 on the same plot and obtain test accuracy**"
      ]
    },
    {
      "cell_type": "code",
      "metadata": {
        "id": "qqy4-UR0TnFU",
        "colab_type": "code",
        "colab": {},
        "outputId": "37b40ebd-ab05-4dd8-d35f-2dc9071bc1cf"
      },
      "source": [
        "model = resnet50\n",
        "# Only train last few layers with appropriate regularization parameter\n",
        "optimizer = optim.SGD(filter(lambda p: p.requires_grad, model.parameters()), lr=learning_rate,weight_decay=1e-5)\n",
        "criteria = nn.CrossEntropyLoss()\n",
        "\n",
        "resnet_metrics = train(model,criteria,optimizer)\n",
        "resnet_accuracy = test(model)"
      ],
      "execution_count": 11,
      "outputs": [
        {
          "output_type": "stream",
          "text": [
            "Iteration [1 /1410] Training Loss: 2.122 Training Accuracy: 15.625\n",
            "Iteration [101 /1410] Training Loss: 1.771 Training Accuracy: 37.500\n",
            "Iteration [201 /1410] Training Loss: 1.180 Training Accuracy: 62.500\n",
            "Iteration [301 /1410] Training Loss: 1.214 Training Accuracy: 56.250\n",
            "Iteration [401 /1410] Training Loss: 0.958 Training Accuracy: 65.625\n",
            "Iteration [501 /1410] Training Loss: 1.388 Training Accuracy: 50.000\n",
            "Iteration [601 /1410] Training Loss: 1.007 Training Accuracy: 71.875\n",
            "Iteration [701 /1410] Training Loss: 1.046 Training Accuracy: 59.375\n",
            "Iteration [801 /1410] Training Loss: 0.985 Training Accuracy: 68.750\n",
            "Iteration [901 /1410] Training Loss: 1.187 Training Accuracy: 65.625\n",
            "Iteration [1001 /1410] Training Loss: 1.037 Training Accuracy: 62.500\n",
            "Iteration [1101 /1410] Training Loss: 1.242 Training Accuracy: 53.125\n",
            "Iteration [1201 /1410] Training Loss: 0.921 Training Accuracy: 62.500\n",
            "Iteration [1301 /1410] Training Loss: 1.147 Training Accuracy: 56.250\n",
            "Iteration [1401 /1410] Training Loss: 1.040 Training Accuracy: 68.750\n",
            "Epoch [1 /5] Training Loss: 1.260 Training Accuracy: 54.598\n",
            "Epoch [1 /5] Validation Loss: 0.958 Validation Accuracy: 63.564\n",
            "Iteration [1 /1410] Training Loss: 1.139 Training Accuracy: 53.125\n",
            "Iteration [101 /1410] Training Loss: 0.968 Training Accuracy: 62.500\n",
            "Iteration [201 /1410] Training Loss: 1.000 Training Accuracy: 62.500\n",
            "Iteration [301 /1410] Training Loss: 0.990 Training Accuracy: 68.750\n",
            "Iteration [401 /1410] Training Loss: 0.946 Training Accuracy: 65.625\n",
            "Iteration [501 /1410] Training Loss: 1.022 Training Accuracy: 75.000\n",
            "Iteration [601 /1410] Training Loss: 0.812 Training Accuracy: 71.875\n",
            "Iteration [701 /1410] Training Loss: 0.990 Training Accuracy: 68.750\n",
            "Iteration [801 /1410] Training Loss: 0.849 Training Accuracy: 65.625\n",
            "Iteration [901 /1410] Training Loss: 0.710 Training Accuracy: 78.125\n",
            "Iteration [1001 /1410] Training Loss: 0.795 Training Accuracy: 65.625\n",
            "Iteration [1101 /1410] Training Loss: 0.979 Training Accuracy: 75.000\n",
            "Iteration [1201 /1410] Training Loss: 1.255 Training Accuracy: 62.500\n",
            "Iteration [1301 /1410] Training Loss: 0.885 Training Accuracy: 68.750\n",
            "Iteration [1401 /1410] Training Loss: 0.900 Training Accuracy: 65.625\n",
            "Epoch [2 /5] Training Loss: 0.903 Training Accuracy: 67.876\n",
            "Epoch [2 /5] Validation Loss: 1.215 Validation Accuracy: 64.162\n",
            "Iteration [1 /1410] Training Loss: 0.619 Training Accuracy: 78.125\n",
            "Iteration [101 /1410] Training Loss: 0.502 Training Accuracy: 81.250\n",
            "Iteration [201 /1410] Training Loss: 0.718 Training Accuracy: 71.875\n",
            "Iteration [301 /1410] Training Loss: 0.454 Training Accuracy: 81.250\n",
            "Iteration [401 /1410] Training Loss: 0.577 Training Accuracy: 81.250\n",
            "Iteration [501 /1410] Training Loss: 0.931 Training Accuracy: 65.625\n",
            "Iteration [601 /1410] Training Loss: 0.596 Training Accuracy: 87.500\n",
            "Iteration [701 /1410] Training Loss: 0.680 Training Accuracy: 71.875\n",
            "Iteration [801 /1410] Training Loss: 0.713 Training Accuracy: 71.875\n",
            "Iteration [901 /1410] Training Loss: 0.606 Training Accuracy: 81.250\n",
            "Iteration [1001 /1410] Training Loss: 0.577 Training Accuracy: 78.125\n",
            "Iteration [1101 /1410] Training Loss: 0.756 Training Accuracy: 68.750\n",
            "Iteration [1201 /1410] Training Loss: 0.739 Training Accuracy: 78.125\n",
            "Iteration [1301 /1410] Training Loss: 0.544 Training Accuracy: 75.000\n",
            "Iteration [1401 /1410] Training Loss: 0.895 Training Accuracy: 68.750\n",
            "Epoch [3 /5] Training Loss: 0.671 Training Accuracy: 76.180\n",
            "Epoch [3 /5] Validation Loss: 1.150 Validation Accuracy: 64.628\n",
            "Iteration [1 /1410] Training Loss: 0.572 Training Accuracy: 78.125\n",
            "Iteration [101 /1410] Training Loss: 0.518 Training Accuracy: 81.250\n",
            "Iteration [201 /1410] Training Loss: 0.562 Training Accuracy: 75.000\n",
            "Iteration [301 /1410] Training Loss: 1.105 Training Accuracy: 62.500\n",
            "Iteration [401 /1410] Training Loss: 0.306 Training Accuracy: 90.625\n",
            "Iteration [501 /1410] Training Loss: 0.440 Training Accuracy: 87.500\n",
            "Iteration [601 /1410] Training Loss: 0.619 Training Accuracy: 81.250\n",
            "Iteration [701 /1410] Training Loss: 0.556 Training Accuracy: 75.000\n",
            "Iteration [801 /1410] Training Loss: 0.720 Training Accuracy: 75.000\n",
            "Iteration [901 /1410] Training Loss: 0.233 Training Accuracy: 90.625\n",
            "Iteration [1001 /1410] Training Loss: 0.185 Training Accuracy: 93.750\n",
            "Iteration [1101 /1410] Training Loss: 0.610 Training Accuracy: 81.250\n",
            "Iteration [1201 /1410] Training Loss: 0.619 Training Accuracy: 78.125\n",
            "Iteration [1301 /1410] Training Loss: 0.286 Training Accuracy: 90.625\n",
            "Iteration [1401 /1410] Training Loss: 0.492 Training Accuracy: 81.250\n",
            "Epoch [4 /5] Training Loss: 0.474 Training Accuracy: 83.364\n",
            "Epoch [4 /5] Validation Loss: 1.169 Validation Accuracy: 71.077\n",
            "Iteration [1 /1410] Training Loss: 0.272 Training Accuracy: 96.875\n",
            "Iteration [101 /1410] Training Loss: 0.183 Training Accuracy: 93.750\n",
            "Iteration [201 /1410] Training Loss: 0.208 Training Accuracy: 87.500\n",
            "Iteration [301 /1410] Training Loss: 0.541 Training Accuracy: 84.375\n",
            "Iteration [401 /1410] Training Loss: 0.614 Training Accuracy: 78.125\n",
            "Iteration [501 /1410] Training Loss: 0.165 Training Accuracy: 93.750\n",
            "Iteration [601 /1410] Training Loss: 0.330 Training Accuracy: 87.500\n",
            "Iteration [701 /1410] Training Loss: 0.381 Training Accuracy: 87.500\n",
            "Iteration [801 /1410] Training Loss: 0.465 Training Accuracy: 84.375\n",
            "Iteration [901 /1410] Training Loss: 0.148 Training Accuracy: 100.000\n",
            "Iteration [1001 /1410] Training Loss: 0.491 Training Accuracy: 81.250\n",
            "Iteration [1101 /1410] Training Loss: 0.284 Training Accuracy: 90.625\n",
            "Iteration [1201 /1410] Training Loss: 0.228 Training Accuracy: 90.625\n",
            "Iteration [1301 /1410] Training Loss: 0.558 Training Accuracy: 81.250\n",
            "Iteration [1401 /1410] Training Loss: 0.375 Training Accuracy: 90.625\n",
            "Epoch [5 /5] Training Loss: 0.329 Training Accuracy: 88.693\n",
            "Epoch [5 /5] Validation Loss: 1.311 Validation Accuracy: 68.883\n",
            "Test Accuracy: 63.49\n"
          ],
          "name": "stdout"
        }
      ]
    },
    {
      "cell_type": "code",
      "metadata": {
        "id": "l-geEfeCTnFZ",
        "colab_type": "code",
        "colab": {},
        "outputId": "bc05280b-74ca-47fc-8c44-4e007b340c60"
      },
      "source": [
        "print(\"Resnet Test Accuracy =\",resnet_accuracy,\"%\")\n",
        "fig = plt.figure()\n",
        "axes = plt.subplot(111)\n",
        "axes.plot(resnet_metrics[\"losses_epoch_train\"],color=\"r\",linestyle=\"-\" ,label='Training')\n",
        "axes.set_xlabel(\"Epochs\")\n",
        "axes.set_ylabel(\"Loss\")\n",
        "axes.legend()\n",
        "axes.set_title(\"ResNet50 Losses\")\n",
        "plt.show()\n",
        "\n",
        "fig = plt.figure()\n",
        "axes = plt.subplot(111)\n",
        "axes.plot(resnet_metrics[\"accuracy_epoch_train\"],color=\"r\",linestyle=\"-\" ,label='Training')\n",
        "axes.plot(resnet_metrics[\"accuracy_epoch_val\"],color=\"b\",linestyle=\"-\" ,label='Validation')\n",
        "axes.set_xlabel(\"Epochs\")\n",
        "axes.set_ylabel(\"Accuracy %\")\n",
        "axes.legend()\n",
        "axes.set_title(\"ResNet50 Accuracies\")\n",
        "plt.show()"
      ],
      "execution_count": 12,
      "outputs": [
        {
          "output_type": "stream",
          "text": [
            "Resnet Test Accuracy = 63.49 %\n"
          ],
          "name": "stdout"
        },
        {
          "output_type": "display_data",
          "data": {
            "image/png": "[encoded data removed]",
            "text/plain": [
              "<Figure size 432x288 with 1 Axes>"
            ]
          },
          "metadata": {
            "tags": [],
            "needs_background": "light"
          }
        },
        {
          "output_type": "display_data",
          "data": {
            "image/png": "[encoded data removed]",
            "text/plain": [
              "<Figure size 432x288 with 1 Axes>"
            ]
          },
          "metadata": {
            "tags": [],
            "needs_background": "light"
          }
        }
      ]
    },
    {
      "cell_type": "markdown",
      "metadata": {
        "id": "qP3TburyTnFd",
        "colab_type": "text"
      },
      "source": [
        "**Plot the training and validation losses versus number of iterations or epochs for DenseNet121 on the same plot and obtain test accuracy**"
      ]
    },
    {
      "cell_type": "code",
      "metadata": {
        "id": "u9pPpUgoTnFe",
        "colab_type": "code",
        "colab": {},
        "outputId": "4652302a-e108-44d7-a330-12d6eb5f46b4"
      },
      "source": [
        "model = densenet\n",
        "# Only train last few layers with appropriate regularization parameter\n",
        "optimizer = optim.SGD(filter(lambda p: p.requires_grad, model.parameters()), lr=learning_rate,weight_decay=1e-5)\n",
        "criteria = nn.CrossEntropyLoss()\n",
        "\n",
        "densenet_metrics = train(model,criteria,optimizer)\n",
        "densenet_accuracy = test(model)"
      ],
      "execution_count": 13,
      "outputs": [
        {
          "output_type": "stream",
          "text": [
            "Iteration [1 /1410] Training Loss: 2.163 Training Accuracy: 6.250\n",
            "Iteration [101 /1410] Training Loss: 1.558 Training Accuracy: 43.750\n",
            "Iteration [201 /1410] Training Loss: 1.516 Training Accuracy: 43.750\n",
            "Iteration [301 /1410] Training Loss: 1.330 Training Accuracy: 50.000\n",
            "Iteration [401 /1410] Training Loss: 1.331 Training Accuracy: 56.250\n",
            "Iteration [501 /1410] Training Loss: 1.459 Training Accuracy: 40.625\n",
            "Iteration [601 /1410] Training Loss: 1.509 Training Accuracy: 46.875\n",
            "Iteration [701 /1410] Training Loss: 1.160 Training Accuracy: 68.750\n",
            "Iteration [801 /1410] Training Loss: 1.308 Training Accuracy: 50.000\n",
            "Iteration [901 /1410] Training Loss: 1.351 Training Accuracy: 46.875\n",
            "Iteration [1001 /1410] Training Loss: 1.234 Training Accuracy: 68.750\n",
            "Iteration [1101 /1410] Training Loss: 1.197 Training Accuracy: 56.250\n",
            "Iteration [1201 /1410] Training Loss: 1.505 Training Accuracy: 56.250\n",
            "Iteration [1301 /1410] Training Loss: 0.817 Training Accuracy: 75.000\n",
            "Iteration [1401 /1410] Training Loss: 1.230 Training Accuracy: 71.875\n",
            "Epoch [1 /5] Training Loss: 1.407 Training Accuracy: 49.138\n",
            "Epoch [1 /5] Validation Loss: 1.329 Validation Accuracy: 51.928\n",
            "Iteration [1 /1410] Training Loss: 1.173 Training Accuracy: 59.375\n",
            "Iteration [101 /1410] Training Loss: 1.455 Training Accuracy: 46.875\n",
            "Iteration [201 /1410] Training Loss: 1.003 Training Accuracy: 68.750\n",
            "Iteration [301 /1410] Training Loss: 1.287 Training Accuracy: 53.125\n",
            "Iteration [401 /1410] Training Loss: 1.151 Training Accuracy: 53.125\n",
            "Iteration [501 /1410] Training Loss: 0.957 Training Accuracy: 68.750\n",
            "Iteration [601 /1410] Training Loss: 1.171 Training Accuracy: 59.375\n",
            "Iteration [701 /1410] Training Loss: 0.836 Training Accuracy: 68.750\n",
            "Iteration [801 /1410] Training Loss: 0.991 Training Accuracy: 68.750\n",
            "Iteration [901 /1410] Training Loss: 1.619 Training Accuracy: 37.500\n",
            "Iteration [1001 /1410] Training Loss: 1.533 Training Accuracy: 50.000\n",
            "Iteration [1101 /1410] Training Loss: 0.903 Training Accuracy: 68.750\n",
            "Iteration [1201 /1410] Training Loss: 1.426 Training Accuracy: 40.625\n",
            "Iteration [1301 /1410] Training Loss: 1.099 Training Accuracy: 59.375\n",
            "Iteration [1401 /1410] Training Loss: 1.192 Training Accuracy: 71.875\n",
            "Epoch [2 /5] Training Loss: 1.158 Training Accuracy: 58.692\n",
            "Epoch [2 /5] Validation Loss: 1.099 Validation Accuracy: 60.705\n",
            "Iteration [1 /1410] Training Loss: 0.735 Training Accuracy: 78.125\n",
            "Iteration [101 /1410] Training Loss: 1.422 Training Accuracy: 46.875\n",
            "Iteration [201 /1410] Training Loss: 1.238 Training Accuracy: 56.250\n",
            "Iteration [301 /1410] Training Loss: 0.995 Training Accuracy: 65.625\n",
            "Iteration [401 /1410] Training Loss: 1.101 Training Accuracy: 56.250\n",
            "Iteration [501 /1410] Training Loss: 1.121 Training Accuracy: 59.375\n",
            "Iteration [601 /1410] Training Loss: 1.120 Training Accuracy: 59.375\n",
            "Iteration [701 /1410] Training Loss: 0.972 Training Accuracy: 62.500\n",
            "Iteration [801 /1410] Training Loss: 1.058 Training Accuracy: 62.500\n",
            "Iteration [901 /1410] Training Loss: 0.966 Training Accuracy: 65.625\n",
            "Iteration [1001 /1410] Training Loss: 1.345 Training Accuracy: 53.125\n",
            "Iteration [1101 /1410] Training Loss: 0.891 Training Accuracy: 65.625\n",
            "Iteration [1201 /1410] Training Loss: 0.915 Training Accuracy: 71.875\n",
            "Iteration [1301 /1410] Training Loss: 0.742 Training Accuracy: 78.125\n",
            "Iteration [1401 /1410] Training Loss: 0.835 Training Accuracy: 75.000\n",
            "Epoch [3 /5] Training Loss: 1.023 Training Accuracy: 63.727\n",
            "Epoch [3 /5] Validation Loss: 1.099 Validation Accuracy: 61.346\n",
            "Iteration [1 /1410] Training Loss: 0.778 Training Accuracy: 75.000\n",
            "Iteration [101 /1410] Training Loss: 0.834 Training Accuracy: 62.500\n",
            "Iteration [201 /1410] Training Loss: 0.571 Training Accuracy: 84.375\n",
            "Iteration [301 /1410] Training Loss: 1.066 Training Accuracy: 71.875\n",
            "Iteration [401 /1410] Training Loss: 1.101 Training Accuracy: 68.750\n",
            "Iteration [501 /1410] Training Loss: 0.757 Training Accuracy: 75.000\n",
            "Iteration [601 /1410] Training Loss: 0.905 Training Accuracy: 68.750\n",
            "Iteration [701 /1410] Training Loss: 1.129 Training Accuracy: 56.250\n",
            "Iteration [801 /1410] Training Loss: 0.776 Training Accuracy: 71.875\n",
            "Iteration [901 /1410] Training Loss: 0.823 Training Accuracy: 71.875\n",
            "Iteration [1001 /1410] Training Loss: 0.823 Training Accuracy: 71.875\n",
            "Iteration [1101 /1410] Training Loss: 1.083 Training Accuracy: 53.125\n",
            "Iteration [1201 /1410] Training Loss: 0.984 Training Accuracy: 65.625\n",
            "Iteration [1301 /1410] Training Loss: 0.867 Training Accuracy: 68.750\n",
            "Iteration [1401 /1410] Training Loss: 0.992 Training Accuracy: 53.125\n",
            "Epoch [4 /5] Training Loss: 0.922 Training Accuracy: 67.605\n",
            "Epoch [4 /5] Validation Loss: 1.079 Validation Accuracy: 63.497\n",
            "Iteration [1 /1410] Training Loss: 0.813 Training Accuracy: 62.500\n",
            "Iteration [101 /1410] Training Loss: 0.917 Training Accuracy: 65.625\n",
            "Iteration [201 /1410] Training Loss: 0.863 Training Accuracy: 71.875\n",
            "Iteration [301 /1410] Training Loss: 0.967 Training Accuracy: 59.375\n",
            "Iteration [401 /1410] Training Loss: 0.677 Training Accuracy: 78.125\n",
            "Iteration [501 /1410] Training Loss: 0.856 Training Accuracy: 75.000\n",
            "Iteration [601 /1410] Training Loss: 0.802 Training Accuracy: 75.000\n",
            "Iteration [701 /1410] Training Loss: 0.792 Training Accuracy: 71.875\n",
            "Iteration [801 /1410] Training Loss: 0.956 Training Accuracy: 62.500\n",
            "Iteration [901 /1410] Training Loss: 0.468 Training Accuracy: 90.625\n",
            "Iteration [1001 /1410] Training Loss: 0.691 Training Accuracy: 71.875\n",
            "Iteration [1101 /1410] Training Loss: 0.908 Training Accuracy: 68.750\n",
            "Iteration [1201 /1410] Training Loss: 0.797 Training Accuracy: 78.125\n",
            "Iteration [1301 /1410] Training Loss: 0.798 Training Accuracy: 68.750\n",
            "Iteration [1401 /1410] Training Loss: 0.624 Training Accuracy: 84.375\n",
            "Epoch [5 /5] Training Loss: 0.826 Training Accuracy: 71.013\n",
            "Epoch [5 /5] Validation Loss: 1.068 Validation Accuracy: 64.090\n",
            "Test Accuracy: 64.18\n"
          ],
          "name": "stdout"
        }
      ]
    },
    {
      "cell_type": "code",
      "metadata": {
        "id": "vluF_pexTnFj",
        "colab_type": "code",
        "colab": {},
        "outputId": "5963a1ec-2c83-4203-a80b-5f690945d8e0"
      },
      "source": [
        "print(\"DenseNet121 Test Accuracy =\",densenet_accuracy,\"%\")\n",
        "fig = plt.figure()\n",
        "axes = plt.subplot(111)\n",
        "axes.plot(densenet_metrics[\"losses_epoch_train\"],color=\"r\",linestyle=\"-\" ,label='Training')\n",
        "axes.plot(densenet_metrics[\"losses_epoch_val\"],color=\"b\",linestyle=\"-\" ,label='Validation')\n",
        "axes.set_xlabel(\"Iterations\")\n",
        "axes.set_ylabel(\"Loss\")\n",
        "axes.legend()\n",
        "axes.set_title(\"DenseNet121\")\n",
        "plt.show()\n",
        "\n",
        "fig = plt.figure()\n",
        "axes = plt.subplot(111)\n",
        "axes.plot(densenet_metrics[\"accuracy_epoch_train\"],color=\"r\",linestyle=\"-\" ,label='Training')\n",
        "axes.plot(densenet_metrics[\"accuracy_epoch_val\"],color=\"b\",linestyle=\"-\" ,label='Validation')\n",
        "axes.set_xlabel(\"Epochs\")\n",
        "axes.set_ylabel(\"Accuracy %\")\n",
        "axes.legend()\n",
        "axes.set_title(\"DenseNet121 Accuracies\")\n",
        "plt.show()"
      ],
      "execution_count": 14,
      "outputs": [
        {
          "output_type": "stream",
          "text": [
            "DenseNet121 Test Accuracy = 64.18 %\n"
          ],
          "name": "stdout"
        },
        {
          "output_type": "display_data",
          "data": {
            "image/png": "[encoded data removed]",
            "text/plain": [
              "<Figure size 432x288 with 1 Axes>"
            ]
          },
          "metadata": {
            "tags": [],
            "needs_background": "light"
          }
        },
        {
          "output_type": "display_data",
          "data": {
            "image/png": "[encoded data removed]",
            "text/plain": [
              "<Figure size 432x288 with 1 Axes>"
            ]
          },
          "metadata": {
            "tags": [],
            "needs_background": "light"
          }
        }
      ]
    },
    {
      "cell_type": "markdown",
      "metadata": {
        "id": "qc5XlUWRTnFm",
        "colab_type": "text"
      },
      "source": [
        "### BatchNorm Comparison"
      ]
    },
    {
      "cell_type": "markdown",
      "metadata": {
        "id": "4gurtFsyTnFn",
        "colab_type": "text"
      },
      "source": [
        "**Create two models one with batchnorm layers and one without batchnorm layers**\n"
      ]
    },
    {
      "cell_type": "code",
      "metadata": {
        "id": "tF7aORavTnFo",
        "colab_type": "code",
        "colab": {},
        "outputId": "d230a2b9-598c-428b-8edd-445c5f70193c"
      },
      "source": [
        "model = YourModel()\n",
        "optimizer = optim.SGD(filter(lambda p: p.requires_grad, model.parameters()), lr=learning_rate,weight_decay=1e-2)\n",
        "criteria = nn.CrossEntropyLoss()\n",
        "\n",
        "batchnorm_model_metrics = train(model,criteria,optimizer)\n",
        "batchnorm_model_accuracy = test(model)"
      ],
      "execution_count": 15,
      "outputs": [
        {
          "output_type": "stream",
          "text": [
            "/storage/alperen/miniconda3/envs/PyTorch/lib/python3.6/site-packages/torch/nn/modules/container.py:92: UserWarning: Implicit dimension choice for softmax has been deprecated. Change the call to include dim=X as an argument.\n",
            "  input = module(input)\n"
          ],
          "name": "stderr"
        },
        {
          "output_type": "stream",
          "text": [
            "Iteration [1 /1410] Training Loss: 2.084 Training Accuracy: 9.375\n",
            "Iteration [101 /1410] Training Loss: 2.010 Training Accuracy: 28.125\n",
            "Iteration [201 /1410] Training Loss: 1.983 Training Accuracy: 31.250\n",
            "Iteration [301 /1410] Training Loss: 1.907 Training Accuracy: 37.500\n",
            "Iteration [401 /1410] Training Loss: 2.113 Training Accuracy: 9.375\n",
            "Iteration [501 /1410] Training Loss: 1.960 Training Accuracy: 34.375\n",
            "Iteration [601 /1410] Training Loss: 1.965 Training Accuracy: 28.125\n",
            "Iteration [701 /1410] Training Loss: 1.801 Training Accuracy: 46.875\n",
            "Iteration [801 /1410] Training Loss: 1.866 Training Accuracy: 37.500\n",
            "Iteration [901 /1410] Training Loss: 1.910 Training Accuracy: 31.250\n",
            "Iteration [1001 /1410] Training Loss: 1.976 Training Accuracy: 34.375\n",
            "Iteration [1101 /1410] Training Loss: 1.942 Training Accuracy: 37.500\n",
            "Iteration [1201 /1410] Training Loss: 2.024 Training Accuracy: 21.875\n",
            "Iteration [1301 /1410] Training Loss: 1.830 Training Accuracy: 43.750\n",
            "Iteration [1401 /1410] Training Loss: 1.928 Training Accuracy: 31.250\n",
            "Epoch [1 /10] Training Loss: 1.979 Training Accuracy: 28.197\n",
            "Epoch [1 /10] Validation Loss: 1.969 Validation Accuracy: 29.101\n",
            "Iteration [1 /1410] Training Loss: 2.005 Training Accuracy: 25.000\n",
            "Iteration [101 /1410] Training Loss: 2.018 Training Accuracy: 25.000\n",
            "Iteration [201 /1410] Training Loss: 2.055 Training Accuracy: 18.750\n",
            "Iteration [301 /1410] Training Loss: 1.939 Training Accuracy: 31.250\n",
            "Iteration [401 /1410] Training Loss: 1.908 Training Accuracy: 34.375\n",
            "Iteration [501 /1410] Training Loss: 1.919 Training Accuracy: 34.375\n",
            "Iteration [601 /1410] Training Loss: 1.949 Training Accuracy: 31.250\n",
            "Iteration [701 /1410] Training Loss: 1.933 Training Accuracy: 31.250\n",
            "Iteration [801 /1410] Training Loss: 1.937 Training Accuracy: 31.250\n",
            "Iteration [901 /1410] Training Loss: 2.064 Training Accuracy: 21.875\n",
            "Iteration [1001 /1410] Training Loss: 1.904 Training Accuracy: 40.625\n",
            "Iteration [1101 /1410] Training Loss: 1.954 Training Accuracy: 28.125\n",
            "Iteration [1201 /1410] Training Loss: 1.848 Training Accuracy: 43.750\n",
            "Iteration [1301 /1410] Training Loss: 1.975 Training Accuracy: 28.125\n",
            "Iteration [1401 /1410] Training Loss: 1.929 Training Accuracy: 40.625\n",
            "Epoch [2 /10] Training Loss: 1.951 Training Accuracy: 31.320\n",
            "Epoch [2 /10] Validation Loss: 1.952 Validation Accuracy: 31.316\n",
            "Iteration [1 /1410] Training Loss: 1.918 Training Accuracy: 34.375\n",
            "Iteration [101 /1410] Training Loss: 1.800 Training Accuracy: 50.000\n",
            "Iteration [201 /1410] Training Loss: 1.999 Training Accuracy: 25.000\n",
            "Iteration [301 /1410] Training Loss: 1.942 Training Accuracy: 31.250\n",
            "Iteration [401 /1410] Training Loss: 1.906 Training Accuracy: 34.375\n",
            "Iteration [501 /1410] Training Loss: 1.969 Training Accuracy: 28.125\n",
            "Iteration [601 /1410] Training Loss: 1.824 Training Accuracy: 46.875\n",
            "Iteration [701 /1410] Training Loss: 2.008 Training Accuracy: 21.875\n",
            "Iteration [801 /1410] Training Loss: 1.767 Training Accuracy: 53.125\n",
            "Iteration [901 /1410] Training Loss: 2.018 Training Accuracy: 25.000\n",
            "Iteration [1001 /1410] Training Loss: 1.953 Training Accuracy: 31.250\n",
            "Iteration [1101 /1410] Training Loss: 1.923 Training Accuracy: 34.375\n",
            "Iteration [1201 /1410] Training Loss: 2.055 Training Accuracy: 12.500\n",
            "Iteration [1301 /1410] Training Loss: 1.816 Training Accuracy: 50.000\n",
            "Iteration [1401 /1410] Training Loss: 2.023 Training Accuracy: 21.875\n",
            "Epoch [3 /10] Training Loss: 1.941 Training Accuracy: 32.314\n",
            "Epoch [3 /10] Validation Loss: 1.967 Validation Accuracy: 29.250\n",
            "Iteration [1 /1410] Training Loss: 1.930 Training Accuracy: 31.250\n",
            "Iteration [101 /1410] Training Loss: 1.899 Training Accuracy: 37.500\n",
            "Iteration [201 /1410] Training Loss: 1.903 Training Accuracy: 37.500\n",
            "Iteration [301 /1410] Training Loss: 1.940 Training Accuracy: 31.250\n",
            "Iteration [401 /1410] Training Loss: 2.011 Training Accuracy: 25.000\n",
            "Iteration [501 /1410] Training Loss: 1.892 Training Accuracy: 34.375\n",
            "Iteration [601 /1410] Training Loss: 1.922 Training Accuracy: 37.500\n",
            "Iteration [701 /1410] Training Loss: 1.912 Training Accuracy: 34.375\n",
            "Iteration [801 /1410] Training Loss: 1.913 Training Accuracy: 34.375\n",
            "Iteration [901 /1410] Training Loss: 1.867 Training Accuracy: 43.750\n",
            "Iteration [1001 /1410] Training Loss: 1.969 Training Accuracy: 28.125\n",
            "Iteration [1101 /1410] Training Loss: 1.851 Training Accuracy: 43.750\n",
            "Iteration [1201 /1410] Training Loss: 1.904 Training Accuracy: 37.500\n",
            "Iteration [1301 /1410] Training Loss: 1.866 Training Accuracy: 43.750\n",
            "Iteration [1401 /1410] Training Loss: 2.022 Training Accuracy: 18.750\n",
            "Epoch [4 /10] Training Loss: 1.935 Training Accuracy: 33.058\n",
            "Epoch [4 /10] Validation Loss: 1.964 Validation Accuracy: 29.612\n",
            "Iteration [1 /1410] Training Loss: 1.949 Training Accuracy: 34.375\n",
            "Iteration [101 /1410] Training Loss: 1.770 Training Accuracy: 53.125\n",
            "Iteration [201 /1410] Training Loss: 1.969 Training Accuracy: 28.125\n",
            "Iteration [301 /1410] Training Loss: 1.841 Training Accuracy: 46.875\n",
            "Iteration [401 /1410] Training Loss: 2.011 Training Accuracy: 21.875\n",
            "Iteration [501 /1410] Training Loss: 1.992 Training Accuracy: 28.125\n",
            "Iteration [601 /1410] Training Loss: 1.962 Training Accuracy: 31.250\n",
            "Iteration [701 /1410] Training Loss: 1.864 Training Accuracy: 40.625\n",
            "Iteration [801 /1410] Training Loss: 1.899 Training Accuracy: 37.500\n",
            "Iteration [901 /1410] Training Loss: 1.826 Training Accuracy: 50.000\n",
            "Iteration [1001 /1410] Training Loss: 1.842 Training Accuracy: 40.625\n",
            "Iteration [1101 /1410] Training Loss: 1.890 Training Accuracy: 37.500\n",
            "Iteration [1201 /1410] Training Loss: 1.947 Training Accuracy: 34.375\n",
            "Iteration [1301 /1410] Training Loss: 1.936 Training Accuracy: 31.250\n",
            "Iteration [1401 /1410] Training Loss: 1.969 Training Accuracy: 28.125\n",
            "Epoch [5 /10] Training Loss: 1.929 Training Accuracy: 33.799\n",
            "Epoch [5 /10] Validation Loss: 1.962 Validation Accuracy: 29.947\n",
            "Iteration [1 /1410] Training Loss: 2.018 Training Accuracy: 28.125\n",
            "Iteration [101 /1410] Training Loss: 2.023 Training Accuracy: 25.000\n",
            "Iteration [201 /1410] Training Loss: 1.880 Training Accuracy: 40.625\n",
            "Iteration [301 /1410] Training Loss: 1.962 Training Accuracy: 34.375\n",
            "Iteration [401 /1410] Training Loss: 1.916 Training Accuracy: 37.500\n",
            "Iteration [501 /1410] Training Loss: 1.850 Training Accuracy: 43.750\n",
            "Iteration [601 /1410] Training Loss: 2.104 Training Accuracy: 12.500\n",
            "Iteration [701 /1410] Training Loss: 1.939 Training Accuracy: 31.250\n",
            "Iteration [801 /1410] Training Loss: 1.854 Training Accuracy: 40.625\n",
            "Iteration [901 /1410] Training Loss: 1.977 Training Accuracy: 31.250\n",
            "Iteration [1001 /1410] Training Loss: 1.878 Training Accuracy: 40.625\n",
            "Iteration [1101 /1410] Training Loss: 1.817 Training Accuracy: 50.000\n",
            "Iteration [1201 /1410] Training Loss: 1.923 Training Accuracy: 34.375\n",
            "Iteration [1301 /1410] Training Loss: 1.960 Training Accuracy: 34.375\n",
            "Iteration [1401 /1410] Training Loss: 1.910 Training Accuracy: 40.625\n",
            "Epoch [6 /10] Training Loss: 1.925 Training Accuracy: 34.394\n",
            "Epoch [6 /10] Validation Loss: 1.971 Validation Accuracy: 28.838\n",
            "Iteration [1 /1410] Training Loss: 1.892 Training Accuracy: 40.625\n",
            "Iteration [101 /1410] Training Loss: 2.040 Training Accuracy: 15.625\n",
            "Iteration [201 /1410] Training Loss: 1.912 Training Accuracy: 34.375\n",
            "Iteration [301 /1410] Training Loss: 1.974 Training Accuracy: 28.125\n",
            "Iteration [401 /1410] Training Loss: 1.984 Training Accuracy: 28.125\n",
            "Iteration [501 /1410] Training Loss: 1.886 Training Accuracy: 43.750\n",
            "Iteration [601 /1410] Training Loss: 2.018 Training Accuracy: 21.875\n",
            "Iteration [701 /1410] Training Loss: 1.863 Training Accuracy: 34.375\n",
            "Iteration [801 /1410] Training Loss: 1.867 Training Accuracy: 37.500\n",
            "Iteration [901 /1410] Training Loss: 1.930 Training Accuracy: 40.625\n",
            "Iteration [1001 /1410] Training Loss: 1.820 Training Accuracy: 50.000\n",
            "Iteration [1101 /1410] Training Loss: 1.912 Training Accuracy: 37.500\n",
            "Iteration [1201 /1410] Training Loss: 1.993 Training Accuracy: 31.250\n",
            "Iteration [1301 /1410] Training Loss: 1.980 Training Accuracy: 21.875\n",
            "Iteration [1401 /1410] Training Loss: 1.887 Training Accuracy: 37.500\n",
            "Epoch [7 /10] Training Loss: 1.923 Training Accuracy: 34.737\n",
            "Epoch [7 /10] Validation Loss: 1.935 Validation Accuracy: 33.027\n",
            "Iteration [1 /1410] Training Loss: 1.811 Training Accuracy: 46.875\n"
          ],
          "name": "stdout"
        },
        {
          "output_type": "stream",
          "text": [
            "Iteration [101 /1410] Training Loss: 2.029 Training Accuracy: 25.000\n",
            "Iteration [201 /1410] Training Loss: 1.896 Training Accuracy: 40.625\n",
            "Iteration [301 /1410] Training Loss: 1.891 Training Accuracy: 37.500\n",
            "Iteration [401 /1410] Training Loss: 1.990 Training Accuracy: 28.125\n",
            "Iteration [501 /1410] Training Loss: 1.956 Training Accuracy: 31.250\n",
            "Iteration [601 /1410] Training Loss: 1.961 Training Accuracy: 25.000\n",
            "Iteration [701 /1410] Training Loss: 1.924 Training Accuracy: 31.250\n",
            "Iteration [801 /1410] Training Loss: 1.918 Training Accuracy: 34.375\n",
            "Iteration [901 /1410] Training Loss: 1.933 Training Accuracy: 34.375\n",
            "Iteration [1001 /1410] Training Loss: 1.839 Training Accuracy: 43.750\n",
            "Iteration [1101 /1410] Training Loss: 1.885 Training Accuracy: 37.500\n",
            "Iteration [1201 /1410] Training Loss: 2.051 Training Accuracy: 21.875\n",
            "Iteration [1301 /1410] Training Loss: 1.800 Training Accuracy: 46.875\n",
            "Iteration [1401 /1410] Training Loss: 1.973 Training Accuracy: 28.125\n",
            "Epoch [8 /10] Training Loss: 1.920 Training Accuracy: 35.065\n",
            "Epoch [8 /10] Validation Loss: 1.962 Validation Accuracy: 29.628\n",
            "Iteration [1 /1410] Training Loss: 1.908 Training Accuracy: 31.250\n",
            "Iteration [101 /1410] Training Loss: 1.928 Training Accuracy: 37.500\n",
            "Iteration [201 /1410] Training Loss: 1.972 Training Accuracy: 31.250\n",
            "Iteration [301 /1410] Training Loss: 2.006 Training Accuracy: 25.000\n",
            "Iteration [401 /1410] Training Loss: 1.945 Training Accuracy: 34.375\n",
            "Iteration [501 /1410] Training Loss: 1.877 Training Accuracy: 40.625\n",
            "Iteration [601 /1410] Training Loss: 2.028 Training Accuracy: 18.750\n",
            "Iteration [701 /1410] Training Loss: 1.979 Training Accuracy: 28.125\n",
            "Iteration [801 /1410] Training Loss: 1.809 Training Accuracy: 46.875\n",
            "Iteration [901 /1410] Training Loss: 1.906 Training Accuracy: 34.375\n",
            "Iteration [1001 /1410] Training Loss: 1.983 Training Accuracy: 31.250\n",
            "Iteration [1101 /1410] Training Loss: 1.934 Training Accuracy: 31.250\n",
            "Iteration [1201 /1410] Training Loss: 1.969 Training Accuracy: 28.125\n",
            "Iteration [1301 /1410] Training Loss: 1.957 Training Accuracy: 31.250\n",
            "Iteration [1401 /1410] Training Loss: 1.928 Training Accuracy: 31.250\n",
            "Epoch [9 /10] Training Loss: 1.919 Training Accuracy: 35.019\n",
            "Epoch [9 /10] Validation Loss: 1.921 Validation Accuracy: 34.912\n",
            "Iteration [1 /1410] Training Loss: 1.927 Training Accuracy: 34.375\n",
            "Iteration [101 /1410] Training Loss: 1.850 Training Accuracy: 40.625\n",
            "Iteration [201 /1410] Training Loss: 1.984 Training Accuracy: 25.000\n",
            "Iteration [301 /1410] Training Loss: 1.839 Training Accuracy: 40.625\n",
            "Iteration [401 /1410] Training Loss: 1.807 Training Accuracy: 50.000\n",
            "Iteration [501 /1410] Training Loss: 1.852 Training Accuracy: 43.750\n",
            "Iteration [601 /1410] Training Loss: 1.877 Training Accuracy: 40.625\n",
            "Iteration [701 /1410] Training Loss: 1.876 Training Accuracy: 43.750\n",
            "Iteration [801 /1410] Training Loss: 2.010 Training Accuracy: 28.125\n",
            "Iteration [901 /1410] Training Loss: 1.909 Training Accuracy: 40.625\n",
            "Iteration [1001 /1410] Training Loss: 1.855 Training Accuracy: 40.625\n",
            "Iteration [1101 /1410] Training Loss: 1.914 Training Accuracy: 37.500\n",
            "Iteration [1201 /1410] Training Loss: 1.960 Training Accuracy: 34.375\n",
            "Iteration [1301 /1410] Training Loss: 1.845 Training Accuracy: 43.750\n",
            "Iteration [1401 /1410] Training Loss: 1.980 Training Accuracy: 34.375\n",
            "Epoch [10 /10] Training Loss: 1.917 Training Accuracy: 35.356\n",
            "Epoch [10 /10] Validation Loss: 1.941 Validation Accuracy: 32.274\n",
            "Test Accuracy: 32.2\n"
          ],
          "name": "stdout"
        }
      ]
    },
    {
      "cell_type": "code",
      "metadata": {
        "id": "FXaZVtbHTnFt",
        "colab_type": "code",
        "colab": {}
      },
      "source": [
        "# Model without batchnorm layers\n",
        "class NoBatchNormModel(nn.Module):\n",
        "    def __init__(self):\n",
        "        # TO DO: Your neural network design\n",
        "        super(NoBatchNormModel, self).__init__()\n",
        "        self.avgpool = nn.AdaptiveAvgPool2d((7, 7))\n",
        "        self.extractor = nn.Sequential(nn.Conv2d(3,64, kernel_size=3, padding=1),\n",
        "                                nn.ReLU(inplace=True),\n",
        "                                nn.Conv2d(64,64, kernel_size=3, padding=1),\n",
        "                                nn.ReLU(inplace=True),\n",
        "                                nn.MaxPool2d(kernel_size=2, stride=2),\n",
        "                                nn.Conv2d(64,128, kernel_size=3, padding=1),\n",
        "                                nn.ReLU(inplace=True),\n",
        "                                nn.Conv2d(128,128, kernel_size=3, padding=1),\n",
        "                                nn.ReLU(inplace=True),                                        \n",
        "                                nn.MaxPool2d(kernel_size=2, stride=2),\n",
        "                                nn.Conv2d(128,256, kernel_size=3, padding=1),\n",
        "                                nn.ReLU(inplace=True),\n",
        "                                nn.Conv2d(256,256, kernel_size=3, padding=1),\n",
        "                                nn.ReLU(inplace=True),                                        \n",
        "                                nn.MaxPool2d(kernel_size=2, stride=2),    \n",
        "                                nn.Conv2d(256,512, kernel_size=3, padding=1),\n",
        "                                nn.ReLU(inplace=True),\n",
        "                                nn.Conv2d(512,512, kernel_size=3, padding=1),\n",
        "                                nn.ReLU(inplace=True),                                        \n",
        "                                nn.MaxPool2d(kernel_size=2, stride=2),  \n",
        "                                nn.Conv2d(512,512, kernel_size=3, padding=1),\n",
        "                                nn.ReLU(inplace=True),\n",
        "                                nn.Conv2d(512,512, kernel_size=3, padding=1),\n",
        "                                nn.ReLU(inplace=True),                                        \n",
        "                                nn.MaxPool2d(kernel_size=2, stride=2)\n",
        "                                )\n",
        "        self.classifier = nn.Sequential(\n",
        "            nn.Linear(512 * 7 * 7, 4096),\n",
        "            nn.ReLU(True),\n",
        "            nn.Dropout(),\n",
        "            nn.Linear(4096, 4096),\n",
        "            nn.ReLU(True),\n",
        "            nn.Dropout(),\n",
        "            nn.Linear(4096, num_classes),\n",
        "            nn.Softmax()\n",
        "        )\n",
        "        \n",
        "    def forward(self, x):\n",
        "        # TO DO: Your neural network design\n",
        "        x = self.extractor(x)\n",
        "        x = self.avgpool(x)\n",
        "        x = torch.flatten(x, 1)\n",
        "        out = self.classifier(x)\n",
        "        return out"
      ],
      "execution_count": 16,
      "outputs": []
    },
    {
      "cell_type": "code",
      "metadata": {
        "id": "ETuFiM_8TnFw",
        "colab_type": "code",
        "colab": {},
        "outputId": "88713534-4383-4f98-9312-ae6220086583"
      },
      "source": [
        "model = NoBatchNormModel()\n",
        "optimizer = optim.SGD(filter(lambda p: p.requires_grad, model.parameters()), lr=learning_rate,weight_decay=1e-2)\n",
        "criteria = nn.CrossEntropyLoss()\n",
        "\n",
        "no_batchnorm_model_metrics = train(model,criteria,optimizer)\n",
        "no_batchnorm_model_accuracy = test(model)"
      ],
      "execution_count": 17,
      "outputs": [
        {
          "output_type": "stream",
          "text": [
            "Iteration [1 /1410] Training Loss: 2.080 Training Accuracy: 18.750\n",
            "Iteration [101 /1410] Training Loss: 2.078 Training Accuracy: 31.250\n",
            "Iteration [201 /1410] Training Loss: 2.078 Training Accuracy: 21.875\n",
            "Iteration [301 /1410] Training Loss: 2.073 Training Accuracy: 28.125\n",
            "Iteration [401 /1410] Training Loss: 2.076 Training Accuracy: 15.625\n",
            "Iteration [501 /1410] Training Loss: 2.072 Training Accuracy: 21.875\n",
            "Iteration [601 /1410] Training Loss: 2.069 Training Accuracy: 25.000\n",
            "Iteration [701 /1410] Training Loss: 2.070 Training Accuracy: 15.625\n",
            "Iteration [801 /1410] Training Loss: 2.070 Training Accuracy: 25.000\n",
            "Iteration [901 /1410] Training Loss: 2.067 Training Accuracy: 25.000\n",
            "Iteration [1001 /1410] Training Loss: 2.060 Training Accuracy: 18.750\n",
            "Iteration [1101 /1410] Training Loss: 2.075 Training Accuracy: 15.625\n",
            "Iteration [1201 /1410] Training Loss: 2.056 Training Accuracy: 25.000\n",
            "Iteration [1301 /1410] Training Loss: 2.068 Training Accuracy: 15.625\n",
            "Iteration [1401 /1410] Training Loss: 2.042 Training Accuracy: 34.375\n",
            "Epoch [1 /10] Training Loss: 2.069 Training Accuracy: 22.962\n",
            "Epoch [1 /10] Validation Loss: 2.059 Validation Accuracy: 23.463\n",
            "Iteration [1 /1410] Training Loss: 2.046 Training Accuracy: 31.250\n",
            "Iteration [101 /1410] Training Loss: 2.046 Training Accuracy: 28.125\n",
            "Iteration [201 /1410] Training Loss: 2.052 Training Accuracy: 25.000\n",
            "Iteration [301 /1410] Training Loss: 2.059 Training Accuracy: 21.875\n",
            "Iteration [401 /1410] Training Loss: 2.047 Training Accuracy: 28.125\n",
            "Iteration [501 /1410] Training Loss: 2.075 Training Accuracy: 9.375\n",
            "Iteration [601 /1410] Training Loss: 2.042 Training Accuracy: 28.125\n",
            "Iteration [701 /1410] Training Loss: 2.043 Training Accuracy: 25.000\n",
            "Iteration [801 /1410] Training Loss: 2.065 Training Accuracy: 15.625\n",
            "Iteration [901 /1410] Training Loss: 2.014 Training Accuracy: 31.250\n",
            "Iteration [1001 /1410] Training Loss: 2.040 Training Accuracy: 25.000\n",
            "Iteration [1101 /1410] Training Loss: 2.051 Training Accuracy: 21.875\n",
            "Iteration [1201 /1410] Training Loss: 2.001 Training Accuracy: 37.500\n",
            "Iteration [1301 /1410] Training Loss: 2.055 Training Accuracy: 21.875\n",
            "Iteration [1401 /1410] Training Loss: 2.069 Training Accuracy: 18.750\n",
            "Epoch [2 /10] Training Loss: 2.048 Training Accuracy: 23.457\n",
            "Epoch [2 /10] Validation Loss: 2.038 Validation Accuracy: 23.463\n",
            "Iteration [1 /1410] Training Loss: 2.028 Training Accuracy: 28.125\n",
            "Iteration [101 /1410] Training Loss: 1.968 Training Accuracy: 40.625\n",
            "Iteration [201 /1410] Training Loss: 1.947 Training Accuracy: 43.750\n",
            "Iteration [301 /1410] Training Loss: 2.042 Training Accuracy: 21.875\n",
            "Iteration [401 /1410] Training Loss: 2.030 Training Accuracy: 25.000\n",
            "Iteration [501 /1410] Training Loss: 2.002 Training Accuracy: 28.125\n",
            "Iteration [601 /1410] Training Loss: 2.004 Training Accuracy: 28.125\n",
            "Iteration [701 /1410] Training Loss: 2.074 Training Accuracy: 15.625\n",
            "Iteration [801 /1410] Training Loss: 1.948 Training Accuracy: 37.500\n",
            "Iteration [901 /1410] Training Loss: 1.975 Training Accuracy: 34.375\n",
            "Iteration [1001 /1410] Training Loss: 2.010 Training Accuracy: 25.000\n",
            "Iteration [1101 /1410] Training Loss: 2.073 Training Accuracy: 15.625\n",
            "Iteration [1201 /1410] Training Loss: 1.992 Training Accuracy: 31.250\n",
            "Iteration [1301 /1410] Training Loss: 2.035 Training Accuracy: 21.875\n",
            "Iteration [1401 /1410] Training Loss: 2.069 Training Accuracy: 15.625\n",
            "Epoch [3 /10] Training Loss: 2.030 Training Accuracy: 23.418\n",
            "Epoch [3 /10] Validation Loss: 2.024 Validation Accuracy: 23.463\n",
            "Iteration [1 /1410] Training Loss: 1.989 Training Accuracy: 28.125\n",
            "Iteration [101 /1410] Training Loss: 2.075 Training Accuracy: 15.625\n",
            "Iteration [201 /1410] Training Loss: 2.046 Training Accuracy: 21.875\n",
            "Iteration [301 /1410] Training Loss: 1.996 Training Accuracy: 28.125\n",
            "Iteration [401 /1410] Training Loss: 1.894 Training Accuracy: 43.750\n",
            "Iteration [501 /1410] Training Loss: 2.058 Training Accuracy: 18.750\n",
            "Iteration [601 /1410] Training Loss: 2.039 Training Accuracy: 21.875\n",
            "Iteration [701 /1410] Training Loss: 2.018 Training Accuracy: 18.750\n",
            "Iteration [801 /1410] Training Loss: 1.969 Training Accuracy: 34.375\n",
            "Iteration [901 /1410] Training Loss: 2.059 Training Accuracy: 21.875\n",
            "Iteration [1001 /1410] Training Loss: 2.054 Training Accuracy: 18.750\n",
            "Iteration [1101 /1410] Training Loss: 2.041 Training Accuracy: 18.750\n",
            "Iteration [1201 /1410] Training Loss: 1.989 Training Accuracy: 25.000\n",
            "Iteration [1301 /1410] Training Loss: 1.997 Training Accuracy: 28.125\n",
            "Iteration [1401 /1410] Training Loss: 2.115 Training Accuracy: 9.375\n",
            "Epoch [4 /10] Training Loss: 2.021 Training Accuracy: 23.425\n",
            "Epoch [4 /10] Validation Loss: 2.019 Validation Accuracy: 23.463\n",
            "Iteration [1 /1410] Training Loss: 2.028 Training Accuracy: 21.875\n",
            "Iteration [101 /1410] Training Loss: 1.993 Training Accuracy: 31.250\n",
            "Iteration [201 /1410] Training Loss: 1.966 Training Accuracy: 31.250\n",
            "Iteration [301 /1410] Training Loss: 2.012 Training Accuracy: 28.125\n",
            "Iteration [401 /1410] Training Loss: 1.993 Training Accuracy: 25.000\n",
            "Iteration [501 /1410] Training Loss: 2.021 Training Accuracy: 28.125\n",
            "Iteration [601 /1410] Training Loss: 2.022 Training Accuracy: 25.000\n",
            "Iteration [701 /1410] Training Loss: 2.144 Training Accuracy: 3.125\n",
            "Iteration [801 /1410] Training Loss: 2.018 Training Accuracy: 21.875\n",
            "Iteration [901 /1410] Training Loss: 1.987 Training Accuracy: 28.125\n",
            "Iteration [1001 /1410] Training Loss: 1.932 Training Accuracy: 31.250\n",
            "Iteration [1101 /1410] Training Loss: 1.987 Training Accuracy: 31.250\n",
            "Iteration [1201 /1410] Training Loss: 2.066 Training Accuracy: 18.750\n",
            "Iteration [1301 /1410] Training Loss: 1.969 Training Accuracy: 31.250\n",
            "Iteration [1401 /1410] Training Loss: 2.004 Training Accuracy: 21.875\n",
            "Epoch [5 /10] Training Loss: 2.019 Training Accuracy: 23.433\n",
            "Epoch [5 /10] Validation Loss: 2.019 Validation Accuracy: 23.463\n",
            "Iteration [1 /1410] Training Loss: 2.017 Training Accuracy: 21.875\n",
            "Iteration [101 /1410] Training Loss: 2.083 Training Accuracy: 15.625\n",
            "Iteration [201 /1410] Training Loss: 2.015 Training Accuracy: 25.000\n",
            "Iteration [301 /1410] Training Loss: 2.006 Training Accuracy: 21.875\n",
            "Iteration [401 /1410] Training Loss: 1.913 Training Accuracy: 40.625\n",
            "Iteration [501 /1410] Training Loss: 2.079 Training Accuracy: 25.000\n",
            "Iteration [601 /1410] Training Loss: 2.048 Training Accuracy: 18.750\n",
            "Iteration [701 /1410] Training Loss: 1.978 Training Accuracy: 31.250\n",
            "Iteration [801 /1410] Training Loss: 1.980 Training Accuracy: 28.125\n",
            "Iteration [901 /1410] Training Loss: 1.961 Training Accuracy: 25.000\n",
            "Iteration [1001 /1410] Training Loss: 2.017 Training Accuracy: 21.875\n",
            "Iteration [1101 /1410] Training Loss: 2.009 Training Accuracy: 25.000\n",
            "Iteration [1201 /1410] Training Loss: 2.030 Training Accuracy: 25.000\n",
            "Iteration [1301 /1410] Training Loss: 2.127 Training Accuracy: 6.250\n",
            "Iteration [1401 /1410] Training Loss: 2.008 Training Accuracy: 28.125\n",
            "Epoch [6 /10] Training Loss: 2.019 Training Accuracy: 23.429\n",
            "Epoch [6 /10] Validation Loss: 2.018 Validation Accuracy: 23.463\n",
            "Iteration [1 /1410] Training Loss: 2.075 Training Accuracy: 18.750\n",
            "Iteration [101 /1410] Training Loss: 2.048 Training Accuracy: 21.875\n",
            "Iteration [201 /1410] Training Loss: 1.997 Training Accuracy: 28.125\n",
            "Iteration [301 /1410] Training Loss: 2.094 Training Accuracy: 15.625\n",
            "Iteration [401 /1410] Training Loss: 2.093 Training Accuracy: 12.500\n",
            "Iteration [501 /1410] Training Loss: 2.033 Training Accuracy: 21.875\n",
            "Iteration [601 /1410] Training Loss: 2.001 Training Accuracy: 31.250\n",
            "Iteration [701 /1410] Training Loss: 1.912 Training Accuracy: 37.500\n",
            "Iteration [801 /1410] Training Loss: 2.035 Training Accuracy: 21.875\n",
            "Iteration [901 /1410] Training Loss: 2.062 Training Accuracy: 15.625\n",
            "Iteration [1001 /1410] Training Loss: 2.029 Training Accuracy: 21.875\n",
            "Iteration [1101 /1410] Training Loss: 1.979 Training Accuracy: 31.250\n",
            "Iteration [1201 /1410] Training Loss: 2.086 Training Accuracy: 15.625\n",
            "Iteration [1301 /1410] Training Loss: 1.960 Training Accuracy: 37.500\n",
            "Iteration [1401 /1410] Training Loss: 1.985 Training Accuracy: 28.125\n",
            "Epoch [7 /10] Training Loss: 2.019 Training Accuracy: 23.413\n",
            "Epoch [7 /10] Validation Loss: 2.019 Validation Accuracy: 23.463\n",
            "Iteration [1 /1410] Training Loss: 2.014 Training Accuracy: 25.000\n"
          ],
          "name": "stdout"
        },
        {
          "output_type": "stream",
          "text": [
            "Iteration [101 /1410] Training Loss: 2.015 Training Accuracy: 25.000\n",
            "Iteration [201 /1410] Training Loss: 1.945 Training Accuracy: 34.375\n",
            "Iteration [301 /1410] Training Loss: 2.043 Training Accuracy: 18.750\n",
            "Iteration [401 /1410] Training Loss: 1.987 Training Accuracy: 31.250\n",
            "Iteration [501 /1410] Training Loss: 2.086 Training Accuracy: 9.375\n",
            "Iteration [601 /1410] Training Loss: 2.036 Training Accuracy: 18.750\n",
            "Iteration [701 /1410] Training Loss: 2.029 Training Accuracy: 15.625\n",
            "Iteration [801 /1410] Training Loss: 1.994 Training Accuracy: 28.125\n",
            "Iteration [901 /1410] Training Loss: 2.064 Training Accuracy: 15.625\n",
            "Iteration [1001 /1410] Training Loss: 2.080 Training Accuracy: 12.500\n",
            "Iteration [1101 /1410] Training Loss: 2.113 Training Accuracy: 6.250\n",
            "Iteration [1201 /1410] Training Loss: 2.020 Training Accuracy: 31.250\n",
            "Iteration [1301 /1410] Training Loss: 2.030 Training Accuracy: 18.750\n",
            "Iteration [1401 /1410] Training Loss: 2.040 Training Accuracy: 28.125\n",
            "Epoch [8 /10] Training Loss: 2.019 Training Accuracy: 23.412\n",
            "Epoch [8 /10] Validation Loss: 2.018 Validation Accuracy: 23.463\n",
            "Iteration [1 /1410] Training Loss: 1.997 Training Accuracy: 28.125\n",
            "Iteration [101 /1410] Training Loss: 1.919 Training Accuracy: 43.750\n",
            "Iteration [201 /1410] Training Loss: 2.027 Training Accuracy: 18.750\n",
            "Iteration [301 /1410] Training Loss: 2.047 Training Accuracy: 18.750\n",
            "Iteration [401 /1410] Training Loss: 2.009 Training Accuracy: 25.000\n",
            "Iteration [501 /1410] Training Loss: 1.950 Training Accuracy: 31.250\n",
            "Iteration [601 /1410] Training Loss: 2.016 Training Accuracy: 28.125\n",
            "Iteration [701 /1410] Training Loss: 2.038 Training Accuracy: 25.000\n",
            "Iteration [801 /1410] Training Loss: 2.053 Training Accuracy: 15.625\n",
            "Iteration [901 /1410] Training Loss: 2.010 Training Accuracy: 21.875\n",
            "Iteration [1001 /1410] Training Loss: 1.957 Training Accuracy: 31.250\n",
            "Iteration [1101 /1410] Training Loss: 2.014 Training Accuracy: 25.000\n",
            "Iteration [1201 /1410] Training Loss: 2.024 Training Accuracy: 25.000\n",
            "Iteration [1301 /1410] Training Loss: 2.053 Training Accuracy: 18.750\n",
            "Iteration [1401 /1410] Training Loss: 1.964 Training Accuracy: 37.500\n",
            "Epoch [9 /10] Training Loss: 2.019 Training Accuracy: 23.467\n",
            "Epoch [9 /10] Validation Loss: 2.019 Validation Accuracy: 23.463\n",
            "Iteration [1 /1410] Training Loss: 2.000 Training Accuracy: 25.000\n",
            "Iteration [101 /1410] Training Loss: 1.993 Training Accuracy: 28.125\n",
            "Iteration [201 /1410] Training Loss: 2.023 Training Accuracy: 21.875\n",
            "Iteration [301 /1410] Training Loss: 2.006 Training Accuracy: 31.250\n",
            "Iteration [401 /1410] Training Loss: 1.997 Training Accuracy: 25.000\n",
            "Iteration [501 /1410] Training Loss: 2.095 Training Accuracy: 15.625\n",
            "Iteration [601 /1410] Training Loss: 2.011 Training Accuracy: 25.000\n",
            "Iteration [701 /1410] Training Loss: 2.015 Training Accuracy: 25.000\n",
            "Iteration [801 /1410] Training Loss: 1.924 Training Accuracy: 37.500\n",
            "Iteration [901 /1410] Training Loss: 2.044 Training Accuracy: 18.750\n",
            "Iteration [1001 /1410] Training Loss: 2.086 Training Accuracy: 15.625\n",
            "Iteration [1101 /1410] Training Loss: 2.141 Training Accuracy: 6.250\n",
            "Iteration [1201 /1410] Training Loss: 2.015 Training Accuracy: 21.875\n",
            "Iteration [1301 /1410] Training Loss: 1.983 Training Accuracy: 18.750\n",
            "Iteration [1401 /1410] Training Loss: 2.018 Training Accuracy: 21.875\n",
            "Epoch [10 /10] Training Loss: 2.019 Training Accuracy: 23.399\n",
            "Epoch [10 /10] Validation Loss: 2.020 Validation Accuracy: 23.463\n",
            "Test Accuracy: 23.64\n"
          ],
          "name": "stdout"
        }
      ]
    },
    {
      "cell_type": "markdown",
      "metadata": {
        "id": "g7ktFTndTnF0",
        "colab_type": "text"
      },
      "source": [
        "**For each, plot the training and validation losses versus number of iterations or epochs and compare test accuracies**"
      ]
    },
    {
      "cell_type": "code",
      "metadata": {
        "id": "DAjk9uIWTnF1",
        "colab_type": "code",
        "colab": {},
        "outputId": "42ab591d-6922-4d45-b80e-ca8c22d2a281"
      },
      "source": [
        "# Compare test accuracies\n",
        "print(\"Test accuracy of model with BatchNorm: {}\".format(batchnorm_model_accuracy))\n",
        "print(\"Test accuracy of model without BatchNorm: {}\".format(no_batchnorm_model_accuracy))\n",
        "\n",
        "fig = plt.figure()\n",
        "axes = plt.subplot(111)\n",
        "axes.plot(batchnorm_model_metrics[\"losses_epoch_train\"],color=\"r\",linestyle=\"-\" ,label='Model with Batchnorm Training')\n",
        "axes.plot(batchnorm_model_metrics[\"losses_epoch_val\"],color=\"b\",linestyle=\"--\" ,label='Model with Batchnorm Validation')\n",
        "axes.plot(no_batchnorm_model_metrics[\"losses_epoch_train\"],color=\"g\",linestyle=\"-\" ,label='Model without Batchnorm Training')\n",
        "axes.plot(no_batchnorm_model_metrics[\"losses_epoch_val\"],color=\"y\",linestyle=\"--\" ,label='Model without Batchnorm Validation')\n",
        "axes.set_xlabel(\"Epochs\")\n",
        "axes.set_ylabel(\"Loss\")\n",
        "axes.legend()\n",
        "axes.set_title(\"Custom Models with and without Batchnorm\")\n",
        "plt.show()"
      ],
      "execution_count": 18,
      "outputs": [
        {
          "output_type": "stream",
          "text": [
            "Test accuracy of model with BatchNorm: 32.2\n",
            "Test accuracy of model without BatchNorm: 23.64\n"
          ],
          "name": "stdout"
        },
        {
          "output_type": "display_data",
          "data": {
            "image/png": "[encoded data removed]",
            "text/plain": [
              "<Figure size 432x288 with 1 Axes>"
            ]
          },
          "metadata": {
            "tags": [],
            "needs_background": "light"
          }
        }
      ]
    },
    {
      "cell_type": "markdown",
      "metadata": {
        "id": "KA5doI9aTnF5",
        "colab_type": "text"
      },
      "source": [
        "As we can see model with BatchNorm performs better. So batchnorm should be included in the final model.\n"
      ]
    },
    {
      "cell_type": "markdown",
      "metadata": {
        "id": "P6q41H36TnF6",
        "colab_type": "text"
      },
      "source": [
        "### Dropout Comparison"
      ]
    },
    {
      "cell_type": "markdown",
      "metadata": {
        "id": "JfjftkcFTnF8",
        "colab_type": "text"
      },
      "source": [
        "**Create two models one with dropout layers and one without dropout layers**\n"
      ]
    },
    {
      "cell_type": "code",
      "metadata": {
        "id": "-QHB_TX8TnF9",
        "colab_type": "code",
        "colab": {}
      },
      "source": [
        "# My own model contains dropout layers therefore i will just use\n",
        "# the results of the batchnorm_model for the model with dropout\n",
        "dropout_model_metrics = batchnorm_model_metrics \n",
        "dropout_model_accuracy = batchnorm_model_accuracy\n",
        "# Also for the sake of fast training, epoch numbers reduced to 6\n",
        "n_epochs = 6"
      ],
      "execution_count": 19,
      "outputs": []
    },
    {
      "cell_type": "code",
      "metadata": {
        "id": "prgmNWkgTnF_",
        "colab_type": "code",
        "colab": {}
      },
      "source": [
        "# Model without dropout\n",
        "class NoDropoutModel(nn.Module):\n",
        "    def __init__(self):\n",
        "        # TO DO: Your neural network design\n",
        "        super(NoDropoutModel, self).__init__()\n",
        "        self.avgpool = nn.AdaptiveAvgPool2d((7, 7))\n",
        "        self.extractor = nn.Sequential(nn.Conv2d(3,64, kernel_size=3, padding=1),\n",
        "                                nn.BatchNorm2d(64),\n",
        "                                nn.ReLU(inplace=True),\n",
        "                                nn.Conv2d(64,64, kernel_size=3, padding=1),\n",
        "                                nn.BatchNorm2d(64),\n",
        "                                nn.ReLU(inplace=True),\n",
        "                                nn.MaxPool2d(kernel_size=2, stride=2),\n",
        "                                nn.Conv2d(64,128, kernel_size=3, padding=1),\n",
        "                                nn.BatchNorm2d(128),\n",
        "                                nn.ReLU(inplace=True),\n",
        "                                nn.Conv2d(128,128, kernel_size=3, padding=1),\n",
        "                                nn.BatchNorm2d(128),\n",
        "                                nn.ReLU(inplace=True),                                        \n",
        "                                nn.MaxPool2d(kernel_size=2, stride=2),\n",
        "                                nn.Conv2d(128,256, kernel_size=3, padding=1),\n",
        "                                nn.BatchNorm2d(256),\n",
        "                                nn.ReLU(inplace=True),\n",
        "                                nn.Conv2d(256,256, kernel_size=3, padding=1),\n",
        "                                nn.BatchNorm2d(256),\n",
        "                                nn.ReLU(inplace=True),                                        \n",
        "                                nn.MaxPool2d(kernel_size=2, stride=2),    \n",
        "                                nn.Conv2d(256,512, kernel_size=3, padding=1),\n",
        "                                nn.BatchNorm2d(512),\n",
        "                                nn.ReLU(inplace=True),\n",
        "                                nn.Conv2d(512,512, kernel_size=3, padding=1),\n",
        "                                nn.BatchNorm2d(512),\n",
        "                                nn.ReLU(inplace=True),                                        \n",
        "                                nn.MaxPool2d(kernel_size=2, stride=2),  \n",
        "                                nn.Conv2d(512,512, kernel_size=3, padding=1),\n",
        "                                nn.BatchNorm2d(512),\n",
        "                                nn.ReLU(inplace=True),\n",
        "                                nn.Conv2d(512,512, kernel_size=3, padding=1),\n",
        "                                nn.BatchNorm2d(512),\n",
        "                                nn.ReLU(inplace=True),                                        \n",
        "                                nn.MaxPool2d(kernel_size=2, stride=2)\n",
        "                                )\n",
        "        self.classifier = nn.Sequential(\n",
        "            nn.Linear(512 * 7 * 7, 4096),\n",
        "            nn.ReLU(True),\n",
        "            nn.Linear(4096, 4096),\n",
        "            nn.ReLU(True),\n",
        "            nn.Linear(4096, num_classes),\n",
        "            nn.Softmax()\n",
        "        )\n",
        "        \n",
        "    def forward(self, x):\n",
        "        # TO DO: Your neural network design\n",
        "        x = self.extractor(x)\n",
        "        x = self.avgpool(x)\n",
        "        x = torch.flatten(x, 1)\n",
        "        out = self.classifier(x)\n",
        "        return out"
      ],
      "execution_count": 20,
      "outputs": []
    },
    {
      "cell_type": "code",
      "metadata": {
        "id": "gcvdt1osTnGC",
        "colab_type": "code",
        "colab": {},
        "outputId": "710528fb-784e-4dc6-adc7-706f403a80cc"
      },
      "source": [
        "model = NoDropoutModel()\n",
        "optimizer = optim.SGD(filter(lambda p: p.requires_grad, model.parameters()), lr=learning_rate,weight_decay=1e-2)\n",
        "criteria = nn.CrossEntropyLoss()\n",
        "\n",
        "no_dropout_model_metrics = train(model,criteria,optimizer)\n",
        "no_dropout_model_accuracy = test(model)"
      ],
      "execution_count": 21,
      "outputs": [
        {
          "output_type": "stream",
          "text": [
            "Iteration [1 /1410] Training Loss: 2.074 Training Accuracy: 25.000\n",
            "Iteration [101 /1410] Training Loss: 1.993 Training Accuracy: 25.000\n",
            "Iteration [201 /1410] Training Loss: 1.985 Training Accuracy: 28.125\n",
            "Iteration [301 /1410] Training Loss: 1.954 Training Accuracy: 31.250\n",
            "Iteration [401 /1410] Training Loss: 1.992 Training Accuracy: 21.875\n",
            "Iteration [501 /1410] Training Loss: 1.802 Training Accuracy: 46.875\n",
            "Iteration [601 /1410] Training Loss: 2.011 Training Accuracy: 21.875\n",
            "Iteration [701 /1410] Training Loss: 1.959 Training Accuracy: 25.000\n",
            "Iteration [801 /1410] Training Loss: 1.997 Training Accuracy: 28.125\n",
            "Iteration [901 /1410] Training Loss: 1.929 Training Accuracy: 34.375\n",
            "Iteration [1001 /1410] Training Loss: 1.959 Training Accuracy: 37.500\n",
            "Iteration [1101 /1410] Training Loss: 1.952 Training Accuracy: 34.375\n",
            "Iteration [1201 /1410] Training Loss: 1.935 Training Accuracy: 37.500\n",
            "Iteration [1301 /1410] Training Loss: 1.975 Training Accuracy: 28.125\n",
            "Iteration [1401 /1410] Training Loss: 1.974 Training Accuracy: 25.000\n",
            "Epoch [1 /6] Training Loss: 1.970 Training Accuracy: 29.119\n",
            "Epoch [1 /6] Validation Loss: 1.974 Validation Accuracy: 28.545\n",
            "Iteration [1 /1410] Training Loss: 1.974 Training Accuracy: 28.125\n",
            "Iteration [101 /1410] Training Loss: 1.959 Training Accuracy: 31.250\n",
            "Iteration [201 /1410] Training Loss: 1.823 Training Accuracy: 40.625\n",
            "Iteration [301 /1410] Training Loss: 1.898 Training Accuracy: 37.500\n",
            "Iteration [401 /1410] Training Loss: 1.885 Training Accuracy: 37.500\n",
            "Iteration [501 /1410] Training Loss: 2.066 Training Accuracy: 15.625\n",
            "Iteration [601 /1410] Training Loss: 1.900 Training Accuracy: 37.500\n",
            "Iteration [701 /1410] Training Loss: 2.039 Training Accuracy: 21.875\n",
            "Iteration [801 /1410] Training Loss: 1.959 Training Accuracy: 31.250\n",
            "Iteration [901 /1410] Training Loss: 1.990 Training Accuracy: 25.000\n",
            "Iteration [1001 /1410] Training Loss: 2.012 Training Accuracy: 25.000\n",
            "Iteration [1101 /1410] Training Loss: 1.958 Training Accuracy: 25.000\n",
            "Iteration [1201 /1410] Training Loss: 1.989 Training Accuracy: 28.125\n",
            "Iteration [1301 /1410] Training Loss: 1.938 Training Accuracy: 28.125\n",
            "Iteration [1401 /1410] Training Loss: 1.980 Training Accuracy: 25.000\n",
            "Epoch [2 /6] Training Loss: 1.945 Training Accuracy: 31.929\n",
            "Epoch [2 /6] Validation Loss: 1.957 Validation Accuracy: 30.340\n",
            "Iteration [1 /1410] Training Loss: 1.943 Training Accuracy: 25.000\n",
            "Iteration [101 /1410] Training Loss: 1.858 Training Accuracy: 46.875\n",
            "Iteration [201 /1410] Training Loss: 1.893 Training Accuracy: 37.500\n",
            "Iteration [301 /1410] Training Loss: 1.818 Training Accuracy: 43.750\n",
            "Iteration [401 /1410] Training Loss: 2.058 Training Accuracy: 15.625\n",
            "Iteration [501 /1410] Training Loss: 2.094 Training Accuracy: 15.625\n",
            "Iteration [601 /1410] Training Loss: 1.954 Training Accuracy: 40.625\n",
            "Iteration [701 /1410] Training Loss: 1.966 Training Accuracy: 34.375\n",
            "Iteration [801 /1410] Training Loss: 1.869 Training Accuracy: 43.750\n",
            "Iteration [901 /1410] Training Loss: 2.036 Training Accuracy: 21.875\n",
            "Iteration [1001 /1410] Training Loss: 1.891 Training Accuracy: 40.625\n",
            "Iteration [1101 /1410] Training Loss: 1.930 Training Accuracy: 34.375\n",
            "Iteration [1201 /1410] Training Loss: 1.969 Training Accuracy: 31.250\n",
            "Iteration [1301 /1410] Training Loss: 1.976 Training Accuracy: 28.125\n",
            "Iteration [1401 /1410] Training Loss: 1.825 Training Accuracy: 46.875\n",
            "Epoch [3 /6] Training Loss: 1.938 Training Accuracy: 32.789\n",
            "Epoch [3 /6] Validation Loss: 1.956 Validation Accuracy: 30.503\n",
            "Iteration [1 /1410] Training Loss: 1.953 Training Accuracy: 28.125\n",
            "Iteration [101 /1410] Training Loss: 1.941 Training Accuracy: 37.500\n",
            "Iteration [201 /1410] Training Loss: 1.999 Training Accuracy: 25.000\n",
            "Iteration [301 /1410] Training Loss: 1.892 Training Accuracy: 40.625\n",
            "Iteration [401 /1410] Training Loss: 1.906 Training Accuracy: 34.375\n",
            "Iteration [501 /1410] Training Loss: 2.010 Training Accuracy: 25.000\n",
            "Iteration [601 /1410] Training Loss: 1.937 Training Accuracy: 34.375\n",
            "Iteration [701 /1410] Training Loss: 1.964 Training Accuracy: 31.250\n",
            "Iteration [801 /1410] Training Loss: 1.910 Training Accuracy: 40.625\n",
            "Iteration [901 /1410] Training Loss: 1.939 Training Accuracy: 34.375\n",
            "Iteration [1001 /1410] Training Loss: 1.883 Training Accuracy: 46.875\n",
            "Iteration [1101 /1410] Training Loss: 1.866 Training Accuracy: 43.750\n",
            "Iteration [1201 /1410] Training Loss: 1.909 Training Accuracy: 37.500\n",
            "Iteration [1301 /1410] Training Loss: 1.995 Training Accuracy: 25.000\n",
            "Iteration [1401 /1410] Training Loss: 1.959 Training Accuracy: 28.125\n",
            "Epoch [4 /6] Training Loss: 1.928 Training Accuracy: 33.920\n",
            "Epoch [4 /6] Validation Loss: 1.950 Validation Accuracy: 31.316\n",
            "Iteration [1 /1410] Training Loss: 2.056 Training Accuracy: 18.750\n",
            "Iteration [101 /1410] Training Loss: 1.977 Training Accuracy: 28.125\n",
            "Iteration [201 /1410] Training Loss: 1.918 Training Accuracy: 40.625\n",
            "Iteration [301 /1410] Training Loss: 2.092 Training Accuracy: 15.625\n",
            "Iteration [401 /1410] Training Loss: 1.869 Training Accuracy: 46.875\n",
            "Iteration [501 /1410] Training Loss: 1.902 Training Accuracy: 37.500\n",
            "Iteration [601 /1410] Training Loss: 2.006 Training Accuracy: 25.000\n",
            "Iteration [701 /1410] Training Loss: 1.914 Training Accuracy: 37.500\n",
            "Iteration [801 /1410] Training Loss: 1.868 Training Accuracy: 34.375\n",
            "Iteration [901 /1410] Training Loss: 1.872 Training Accuracy: 37.500\n",
            "Iteration [1001 /1410] Training Loss: 1.924 Training Accuracy: 37.500\n",
            "Iteration [1101 /1410] Training Loss: 2.000 Training Accuracy: 21.875\n",
            "Iteration [1201 /1410] Training Loss: 1.876 Training Accuracy: 43.750\n",
            "Iteration [1301 /1410] Training Loss: 1.882 Training Accuracy: 34.375\n",
            "Iteration [1401 /1410] Training Loss: 1.870 Training Accuracy: 40.625\n",
            "Epoch [5 /6] Training Loss: 1.923 Training Accuracy: 34.617\n",
            "Epoch [5 /6] Validation Loss: 1.960 Validation Accuracy: 30.266\n",
            "Iteration [1 /1410] Training Loss: 1.914 Training Accuracy: 40.625\n",
            "Iteration [101 /1410] Training Loss: 2.020 Training Accuracy: 25.000\n",
            "Iteration [201 /1410] Training Loss: 1.796 Training Accuracy: 50.000\n",
            "Iteration [301 /1410] Training Loss: 1.815 Training Accuracy: 43.750\n",
            "Iteration [401 /1410] Training Loss: 1.934 Training Accuracy: 34.375\n",
            "Iteration [501 /1410] Training Loss: 1.876 Training Accuracy: 40.625\n",
            "Iteration [601 /1410] Training Loss: 1.926 Training Accuracy: 31.250\n",
            "Iteration [701 /1410] Training Loss: 1.877 Training Accuracy: 46.875\n",
            "Iteration [801 /1410] Training Loss: 1.905 Training Accuracy: 37.500\n",
            "Iteration [901 /1410] Training Loss: 1.961 Training Accuracy: 28.125\n",
            "Iteration [1001 /1410] Training Loss: 1.944 Training Accuracy: 28.125\n",
            "Iteration [1101 /1410] Training Loss: 1.851 Training Accuracy: 43.750\n",
            "Iteration [1201 /1410] Training Loss: 1.814 Training Accuracy: 53.125\n",
            "Iteration [1301 /1410] Training Loss: 1.991 Training Accuracy: 25.000\n",
            "Iteration [1401 /1410] Training Loss: 1.850 Training Accuracy: 43.750\n",
            "Epoch [6 /6] Training Loss: 1.921 Training Accuracy: 34.878\n",
            "Epoch [6 /6] Validation Loss: 1.941 Validation Accuracy: 32.527\n",
            "Test Accuracy: 32.64\n"
          ],
          "name": "stdout"
        }
      ]
    },
    {
      "cell_type": "markdown",
      "metadata": {
        "id": "gjUZNg49TnGI",
        "colab_type": "text"
      },
      "source": [
        "**For each, plot the training and validation losses versus number of iterations or epochs and compare test accuracies**"
      ]
    },
    {
      "cell_type": "code",
      "metadata": {
        "scrolled": true,
        "id": "SwCwkNGDTnGI",
        "colab_type": "code",
        "colab": {},
        "outputId": "3cfe75ea-9353-4a9b-cfe3-36986b82dab7"
      },
      "source": [
        "# Compare test accuracies\n",
        "print(\"Test accuracy of model with BatchNorm: {}\".format(dropout_model_accuracy))\n",
        "print(\"Test accuracy of model without BatchNorm: {}\".format(no_dropout_model_accuracy))\n",
        "\n",
        "fig = plt.figure()\n",
        "axes = plt.subplot(111)\n",
        "axes.plot(dropout_model_metrics[\"losses_epoch_train\"],color=\"r\",linestyle=\"-\" ,label='Model with Dropout Training')\n",
        "axes.plot(dropout_model_metrics[\"losses_epoch_val\"],color=\"b\",linestyle=\"--\" ,label='Model with Dropout Validation')\n",
        "axes.plot(no_dropout_model_metrics[\"losses_epoch_train\"],color=\"g\",linestyle=\"-\" ,label='Model without Dropout Training')\n",
        "axes.plot(no_dropout_model_metrics[\"losses_epoch_val\"],color=\"y\",linestyle=\"--\" ,label='Model without Dropout Validation')\n",
        "axes.set_xlabel(\"Epochs\")\n",
        "axes.set_ylabel(\"Loss\")\n",
        "axes.legend()\n",
        "axes.set_title(\"Custom Models with and without Dropout\")\n",
        "plt.show()"
      ],
      "execution_count": 22,
      "outputs": [
        {
          "output_type": "stream",
          "text": [
            "Test accuracy of model with BatchNorm: 32.2\n",
            "Test accuracy of model without BatchNorm: 32.64\n"
          ],
          "name": "stdout"
        },
        {
          "output_type": "display_data",
          "data": {
            "image/png": "[encoded data removed]",
            "text/plain": [
              "<Figure size 432x288 with 1 Axes>"
            ]
          },
          "metadata": {
            "tags": [],
            "needs_background": "light"
          }
        }
      ]
    },
    {
      "cell_type": "markdown",
      "metadata": {
        "id": "X6jUFwbjTnGM",
        "colab_type": "text"
      },
      "source": [
        "Model without dropout give better training loss but in validation with dropout is better. Therefore for better generalization we should include dropout layers."
      ]
    },
    {
      "cell_type": "markdown",
      "metadata": {
        "id": "VGcjLTKaTnGO",
        "colab_type": "text"
      },
      "source": [
        "### Optimizer Comparison"
      ]
    },
    {
      "cell_type": "markdown",
      "metadata": {
        "id": "5f5MEc8NTnGQ",
        "colab_type": "text"
      },
      "source": [
        "**Optimize two identical models one with SGD+Momentum and one with Adam**\n"
      ]
    },
    {
      "cell_type": "code",
      "metadata": {
        "id": "ok_yy4huTnGR",
        "colab_type": "code",
        "colab": {},
        "outputId": "3bd1e914-2c6e-4348-9173-98a0b583fee5"
      },
      "source": [
        "model = YourModel()\n",
        "# Model trained with SGD+Momentum\n",
        "optimizer = optim.SGD(filter(lambda p: p.requires_grad, model.parameters()), lr=learning_rate,momentum=0.8,weight_decay=1e-2)\n",
        "criteria = nn.CrossEntropyLoss()\n",
        "\n",
        "sgd_model_metrics = train(model,criteria,optimizer)\n",
        "sgd_model_accuracy = test(model)\n",
        "print(\"Model optimized with SGD+Momentum finished training\")\n",
        "model = YourModel()\n",
        "# Model trained with Adam\n",
        "optimizer = optim.Adam(filter(lambda p: p.requires_grad, model.parameters()), lr=learning_rate,weight_decay=1e-2)\n",
        "criteria = nn.CrossEntropyLoss()\n",
        "\n",
        "adam_model_metrics = train(model,criteria,optimizer)\n",
        "adam_model_accuracy = test(model)\n",
        "print(\"Model optimized with Adam finished training\")"
      ],
      "execution_count": 23,
      "outputs": [
        {
          "output_type": "stream",
          "text": [
            "Iteration [1 /1410] Training Loss: 2.085 Training Accuracy: 9.375\n",
            "Iteration [101 /1410] Training Loss: 2.110 Training Accuracy: 9.375\n",
            "Iteration [201 /1410] Training Loss: 1.961 Training Accuracy: 28.125\n",
            "Iteration [301 /1410] Training Loss: 2.018 Training Accuracy: 18.750\n",
            "Iteration [401 /1410] Training Loss: 2.057 Training Accuracy: 21.875\n",
            "Iteration [501 /1410] Training Loss: 2.025 Training Accuracy: 25.000\n",
            "Iteration [601 /1410] Training Loss: 1.956 Training Accuracy: 25.000\n",
            "Iteration [701 /1410] Training Loss: 2.060 Training Accuracy: 15.625\n",
            "Iteration [801 /1410] Training Loss: 1.985 Training Accuracy: 31.250\n",
            "Iteration [901 /1410] Training Loss: 1.997 Training Accuracy: 25.000\n",
            "Iteration [1001 /1410] Training Loss: 2.050 Training Accuracy: 18.750\n",
            "Iteration [1101 /1410] Training Loss: 1.971 Training Accuracy: 28.125\n",
            "Iteration [1201 /1410] Training Loss: 1.934 Training Accuracy: 31.250\n",
            "Iteration [1301 /1410] Training Loss: 2.010 Training Accuracy: 25.000\n",
            "Iteration [1401 /1410] Training Loss: 2.031 Training Accuracy: 21.875\n",
            "Epoch [1 /6] Training Loss: 2.008 Training Accuracy: 24.668\n",
            "Epoch [1 /6] Validation Loss: 2.000 Validation Accuracy: 25.354\n",
            "Iteration [1 /1410] Training Loss: 1.919 Training Accuracy: 40.625\n",
            "Iteration [101 /1410] Training Loss: 2.005 Training Accuracy: 34.375\n",
            "Iteration [201 /1410] Training Loss: 2.063 Training Accuracy: 15.625\n",
            "Iteration [301 /1410] Training Loss: 2.037 Training Accuracy: 15.625\n",
            "Iteration [401 /1410] Training Loss: 1.982 Training Accuracy: 31.250\n",
            "Iteration [501 /1410] Training Loss: 2.070 Training Accuracy: 15.625\n",
            "Iteration [601 /1410] Training Loss: 2.045 Training Accuracy: 18.750\n",
            "Iteration [701 /1410] Training Loss: 2.064 Training Accuracy: 15.625\n",
            "Iteration [801 /1410] Training Loss: 1.912 Training Accuracy: 40.625\n",
            "Iteration [901 /1410] Training Loss: 1.915 Training Accuracy: 34.375\n",
            "Iteration [1001 /1410] Training Loss: 2.094 Training Accuracy: 12.500\n",
            "Iteration [1101 /1410] Training Loss: 2.038 Training Accuracy: 21.875\n",
            "Iteration [1201 /1410] Training Loss: 2.029 Training Accuracy: 18.750\n",
            "Iteration [1301 /1410] Training Loss: 2.016 Training Accuracy: 18.750\n",
            "Iteration [1401 /1410] Training Loss: 2.108 Training Accuracy: 9.375\n",
            "Epoch [2 /6] Training Loss: 1.998 Training Accuracy: 25.601\n",
            "Epoch [2 /6] Validation Loss: 1.999 Validation Accuracy: 25.269\n",
            "Iteration [1 /1410] Training Loss: 1.934 Training Accuracy: 34.375\n",
            "Iteration [101 /1410] Training Loss: 2.003 Training Accuracy: 28.125\n",
            "Iteration [201 /1410] Training Loss: 1.970 Training Accuracy: 31.250\n",
            "Iteration [301 /1410] Training Loss: 2.046 Training Accuracy: 15.625\n",
            "Iteration [401 /1410] Training Loss: 1.915 Training Accuracy: 37.500\n",
            "Iteration [501 /1410] Training Loss: 2.073 Training Accuracy: 15.625\n",
            "Iteration [601 /1410] Training Loss: 2.008 Training Accuracy: 25.000\n",
            "Iteration [701 /1410] Training Loss: 2.027 Training Accuracy: 12.500\n",
            "Iteration [801 /1410] Training Loss: 1.907 Training Accuracy: 37.500\n",
            "Iteration [901 /1410] Training Loss: 1.957 Training Accuracy: 28.125\n",
            "Iteration [1001 /1410] Training Loss: 2.090 Training Accuracy: 12.500\n",
            "Iteration [1101 /1410] Training Loss: 1.954 Training Accuracy: 28.125\n",
            "Iteration [1201 /1410] Training Loss: 2.024 Training Accuracy: 15.625\n",
            "Iteration [1301 /1410] Training Loss: 2.070 Training Accuracy: 15.625\n",
            "Iteration [1401 /1410] Training Loss: 2.042 Training Accuracy: 21.875\n",
            "Epoch [3 /6] Training Loss: 1.999 Training Accuracy: 25.409\n",
            "Epoch [3 /6] Validation Loss: 2.010 Validation Accuracy: 24.934\n",
            "Iteration [1 /1410] Training Loss: 2.011 Training Accuracy: 28.125\n",
            "Iteration [101 /1410] Training Loss: 2.045 Training Accuracy: 18.750\n",
            "Iteration [201 /1410] Training Loss: 2.020 Training Accuracy: 18.750\n",
            "Iteration [301 /1410] Training Loss: 2.055 Training Accuracy: 15.625\n",
            "Iteration [401 /1410] Training Loss: 1.970 Training Accuracy: 28.125\n",
            "Iteration [501 /1410] Training Loss: 1.969 Training Accuracy: 31.250\n",
            "Iteration [601 /1410] Training Loss: 1.992 Training Accuracy: 31.250\n",
            "Iteration [701 /1410] Training Loss: 2.022 Training Accuracy: 21.875\n",
            "Iteration [801 /1410] Training Loss: 2.010 Training Accuracy: 28.125\n",
            "Iteration [901 /1410] Training Loss: 2.033 Training Accuracy: 21.875\n",
            "Iteration [1001 /1410] Training Loss: 2.000 Training Accuracy: 28.125\n",
            "Iteration [1101 /1410] Training Loss: 2.007 Training Accuracy: 21.875\n",
            "Iteration [1201 /1410] Training Loss: 1.944 Training Accuracy: 28.125\n",
            "Iteration [1301 /1410] Training Loss: 1.989 Training Accuracy: 28.125\n",
            "Iteration [1401 /1410] Training Loss: 1.976 Training Accuracy: 25.000\n",
            "Epoch [4 /6] Training Loss: 1.999 Training Accuracy: 25.549\n",
            "Epoch [4 /6] Validation Loss: 2.022 Validation Accuracy: 25.045\n",
            "Iteration [1 /1410] Training Loss: 2.049 Training Accuracy: 21.875\n",
            "Iteration [101 /1410] Training Loss: 1.960 Training Accuracy: 31.250\n",
            "Iteration [201 /1410] Training Loss: 2.036 Training Accuracy: 21.875\n",
            "Iteration [301 /1410] Training Loss: 1.986 Training Accuracy: 34.375\n",
            "Iteration [401 /1410] Training Loss: 1.981 Training Accuracy: 28.125\n",
            "Iteration [501 /1410] Training Loss: 2.015 Training Accuracy: 28.125\n",
            "Iteration [601 /1410] Training Loss: 1.939 Training Accuracy: 34.375\n",
            "Iteration [701 /1410] Training Loss: 2.010 Training Accuracy: 25.000\n",
            "Iteration [801 /1410] Training Loss: 2.076 Training Accuracy: 12.500\n",
            "Iteration [901 /1410] Training Loss: 1.964 Training Accuracy: 34.375\n",
            "Iteration [1001 /1410] Training Loss: 2.002 Training Accuracy: 28.125\n",
            "Iteration [1101 /1410] Training Loss: 1.989 Training Accuracy: 28.125\n",
            "Iteration [1201 /1410] Training Loss: 1.969 Training Accuracy: 31.250\n",
            "Iteration [1301 /1410] Training Loss: 2.020 Training Accuracy: 21.875\n",
            "Iteration [1401 /1410] Training Loss: 1.968 Training Accuracy: 28.125\n",
            "Epoch [5 /6] Training Loss: 1.999 Training Accuracy: 25.702\n",
            "Epoch [5 /6] Validation Loss: 2.007 Validation Accuracy: 24.723\n",
            "Iteration [1 /1410] Training Loss: 1.984 Training Accuracy: 31.250\n",
            "Iteration [101 /1410] Training Loss: 1.906 Training Accuracy: 34.375\n",
            "Iteration [201 /1410] Training Loss: 1.934 Training Accuracy: 31.250\n",
            "Iteration [301 /1410] Training Loss: 1.911 Training Accuracy: 34.375\n",
            "Iteration [401 /1410] Training Loss: 1.998 Training Accuracy: 28.125\n",
            "Iteration [501 /1410] Training Loss: 1.982 Training Accuracy: 25.000\n",
            "Iteration [601 /1410] Training Loss: 1.966 Training Accuracy: 31.250\n",
            "Iteration [701 /1410] Training Loss: 1.959 Training Accuracy: 28.125\n",
            "Iteration [801 /1410] Training Loss: 1.971 Training Accuracy: 31.250\n",
            "Iteration [901 /1410] Training Loss: 2.003 Training Accuracy: 28.125\n",
            "Iteration [1001 /1410] Training Loss: 2.036 Training Accuracy: 18.750\n",
            "Iteration [1101 /1410] Training Loss: 1.947 Training Accuracy: 34.375\n",
            "Iteration [1201 /1410] Training Loss: 2.053 Training Accuracy: 18.750\n",
            "Iteration [1301 /1410] Training Loss: 2.077 Training Accuracy: 15.625\n",
            "Iteration [1401 /1410] Training Loss: 1.959 Training Accuracy: 28.125\n",
            "Epoch [6 /6] Training Loss: 2.001 Training Accuracy: 25.323\n",
            "Epoch [6 /6] Validation Loss: 2.010 Validation Accuracy: 24.971\n",
            "Test Accuracy: 25.43\n",
            "Model optimized with SGD+Momentum finished training\n",
            "Iteration [1 /1410] Training Loss: 2.077 Training Accuracy: 12.500\n",
            "Iteration [101 /1410] Training Loss: 2.113 Training Accuracy: 9.375\n",
            "Iteration [201 /1410] Training Loss: 2.149 Training Accuracy: 12.500\n",
            "Iteration [301 /1410] Training Loss: 2.053 Training Accuracy: 18.750\n",
            "Iteration [401 /1410] Training Loss: 1.993 Training Accuracy: 28.125\n",
            "Iteration [501 /1410] Training Loss: 2.087 Training Accuracy: 18.750\n",
            "Iteration [601 /1410] Training Loss: 2.024 Training Accuracy: 25.000\n",
            "Iteration [701 /1410] Training Loss: 2.178 Training Accuracy: 9.375\n",
            "Iteration [801 /1410] Training Loss: 2.149 Training Accuracy: 12.500\n",
            "Iteration [901 /1410] Training Loss: 2.118 Training Accuracy: 15.625\n",
            "Iteration [1001 /1410] Training Loss: 2.243 Training Accuracy: 3.125\n",
            "Iteration [1101 /1410] Training Loss: 2.024 Training Accuracy: 25.000\n",
            "Iteration [1201 /1410] Training Loss: 2.149 Training Accuracy: 12.500\n",
            "Iteration [1301 /1410] Training Loss: 2.118 Training Accuracy: 15.625\n",
            "Iteration [1401 /1410] Training Loss: 2.024 Training Accuracy: 25.000\n",
            "Epoch [1 /6] Training Loss: 2.083 Training Accuracy: 18.900\n",
            "Epoch [1 /6] Validation Loss: 2.090 Validation Accuracy: 18.324\n"
          ],
          "name": "stdout"
        },
        {
          "output_type": "stream",
          "text": [
            "Iteration [1 /1410] Training Loss: 1.994 Training Accuracy: 28.125\n",
            "Iteration [101 /1410] Training Loss: 1.993 Training Accuracy: 28.125\n",
            "Iteration [201 /1410] Training Loss: 2.024 Training Accuracy: 25.000\n",
            "Iteration [301 /1410] Training Loss: 1.993 Training Accuracy: 28.125\n",
            "Iteration [401 /1410] Training Loss: 1.987 Training Accuracy: 28.125\n",
            "Iteration [501 /1410] Training Loss: 1.974 Training Accuracy: 31.250\n",
            "Iteration [601 /1410] Training Loss: 2.149 Training Accuracy: 12.500\n",
            "Iteration [701 /1410] Training Loss: 2.055 Training Accuracy: 21.875\n",
            "Iteration [801 /1410] Training Loss: 2.087 Training Accuracy: 18.750\n",
            "Iteration [901 /1410] Training Loss: 2.024 Training Accuracy: 25.000\n",
            "Iteration [1001 /1410] Training Loss: 1.993 Training Accuracy: 28.125\n",
            "Iteration [1101 /1410] Training Loss: 2.087 Training Accuracy: 18.750\n",
            "Iteration [1201 /1410] Training Loss: 1.930 Training Accuracy: 34.375\n",
            "Iteration [1301 /1410] Training Loss: 2.060 Training Accuracy: 21.875\n",
            "Iteration [1401 /1410] Training Loss: 1.993 Training Accuracy: 28.125\n",
            "Epoch [2 /6] Training Loss: 2.079 Training Accuracy: 19.371\n",
            "Epoch [2 /6] Validation Loss: 2.039 Validation Accuracy: 23.463\n",
            "Iteration [1 /1410] Training Loss: 2.055 Training Accuracy: 21.875\n",
            "Iteration [101 /1410] Training Loss: 1.805 Training Accuracy: 46.875\n",
            "Iteration [201 /1410] Training Loss: 2.024 Training Accuracy: 25.000\n",
            "Iteration [301 /1410] Training Loss: 2.055 Training Accuracy: 21.875\n",
            "Iteration [401 /1410] Training Loss: 2.118 Training Accuracy: 15.625\n",
            "Iteration [501 /1410] Training Loss: 2.149 Training Accuracy: 12.500\n",
            "Iteration [601 /1410] Training Loss: 2.149 Training Accuracy: 12.500\n",
            "Iteration [701 /1410] Training Loss: 2.024 Training Accuracy: 25.000\n",
            "Iteration [801 /1410] Training Loss: 2.024 Training Accuracy: 25.000\n",
            "Iteration [901 /1410] Training Loss: 2.055 Training Accuracy: 21.875\n",
            "Iteration [1001 /1410] Training Loss: 2.180 Training Accuracy: 9.375\n",
            "Iteration [1101 /1410] Training Loss: 2.211 Training Accuracy: 6.250\n",
            "Iteration [1201 /1410] Training Loss: 2.118 Training Accuracy: 15.625\n",
            "Iteration [1301 /1410] Training Loss: 2.024 Training Accuracy: 25.000\n",
            "Iteration [1401 /1410] Training Loss: 2.005 Training Accuracy: 25.000\n",
            "Epoch [3 /6] Training Loss: 2.081 Training Accuracy: 19.151\n",
            "Epoch [3 /6] Validation Loss: 2.039 Validation Accuracy: 23.463\n",
            "Iteration [1 /1410] Training Loss: 2.243 Training Accuracy: 3.125\n",
            "Iteration [101 /1410] Training Loss: 2.087 Training Accuracy: 18.750\n",
            "Iteration [201 /1410] Training Loss: 2.118 Training Accuracy: 15.625\n",
            "Iteration [301 /1410] Training Loss: 2.024 Training Accuracy: 25.000\n",
            "Iteration [401 /1410] Training Loss: 1.993 Training Accuracy: 28.125\n",
            "Iteration [501 /1410] Training Loss: 2.055 Training Accuracy: 21.875\n",
            "Iteration [601 /1410] Training Loss: 2.149 Training Accuracy: 12.500\n",
            "Iteration [701 /1410] Training Loss: 2.149 Training Accuracy: 12.500\n",
            "Iteration [801 /1410] Training Loss: 2.024 Training Accuracy: 25.000\n",
            "Iteration [901 /1410] Training Loss: 2.055 Training Accuracy: 21.875\n",
            "Iteration [1001 /1410] Training Loss: 1.993 Training Accuracy: 28.125\n",
            "Iteration [1101 /1410] Training Loss: 1.978 Training Accuracy: 28.125\n",
            "Iteration [1201 /1410] Training Loss: 2.175 Training Accuracy: 9.375\n",
            "Iteration [1301 /1410] Training Loss: 2.179 Training Accuracy: 9.375\n",
            "Iteration [1401 /1410] Training Loss: 1.961 Training Accuracy: 31.250\n",
            "Epoch [4 /6] Training Loss: 2.084 Training Accuracy: 18.841\n",
            "Epoch [4 /6] Validation Loss: 2.039 Validation Accuracy: 23.463\n",
            "Iteration [1 /1410] Training Loss: 2.087 Training Accuracy: 18.750\n",
            "Iteration [101 /1410] Training Loss: 2.087 Training Accuracy: 18.750\n",
            "Iteration [201 /1410] Training Loss: 2.243 Training Accuracy: 3.125\n",
            "Iteration [301 /1410] Training Loss: 2.243 Training Accuracy: 3.125\n",
            "Iteration [401 /1410] Training Loss: 1.868 Training Accuracy: 40.625\n",
            "Iteration [501 /1410] Training Loss: 1.961 Training Accuracy: 31.250\n",
            "Iteration [601 /1410] Training Loss: 2.087 Training Accuracy: 18.750\n",
            "Iteration [701 /1410] Training Loss: 2.055 Training Accuracy: 21.875\n",
            "Iteration [801 /1410] Training Loss: 2.118 Training Accuracy: 15.625\n",
            "Iteration [901 /1410] Training Loss: 2.087 Training Accuracy: 18.750\n",
            "Iteration [1001 /1410] Training Loss: 2.055 Training Accuracy: 21.875\n",
            "Iteration [1101 /1410] Training Loss: 1.962 Training Accuracy: 31.250\n",
            "Iteration [1201 /1410] Training Loss: 2.274 Training Accuracy: 0.000\n",
            "Iteration [1301 /1410] Training Loss: 1.993 Training Accuracy: 28.125\n",
            "Iteration [1401 /1410] Training Loss: 2.118 Training Accuracy: 15.625\n",
            "Epoch [5 /6] Training Loss: 2.072 Training Accuracy: 20.065\n",
            "Epoch [5 /6] Validation Loss: 2.138 Validation Accuracy: 13.604\n",
            "Iteration [1 /1410] Training Loss: 2.118 Training Accuracy: 15.625\n",
            "Iteration [101 /1410] Training Loss: 2.149 Training Accuracy: 12.500\n",
            "Iteration [201 /1410] Training Loss: 1.930 Training Accuracy: 34.375\n",
            "Iteration [301 /1410] Training Loss: 1.993 Training Accuracy: 28.125\n",
            "Iteration [401 /1410] Training Loss: 2.211 Training Accuracy: 6.250\n",
            "Iteration [501 /1410] Training Loss: 1.961 Training Accuracy: 31.250\n",
            "Iteration [601 /1410] Training Loss: 1.962 Training Accuracy: 31.250\n",
            "Iteration [701 /1410] Training Loss: 2.037 Training Accuracy: 25.000\n",
            "Iteration [801 /1410] Training Loss: 2.087 Training Accuracy: 18.750\n",
            "Iteration [901 /1410] Training Loss: 2.240 Training Accuracy: 3.125\n",
            "Iteration [1001 /1410] Training Loss: 2.180 Training Accuracy: 9.375\n",
            "Iteration [1101 /1410] Training Loss: 2.055 Training Accuracy: 21.875\n",
            "Iteration [1201 /1410] Training Loss: 2.149 Training Accuracy: 12.500\n",
            "Iteration [1301 /1410] Training Loss: 2.180 Training Accuracy: 9.375\n",
            "Iteration [1401 /1410] Training Loss: 2.007 Training Accuracy: 25.000\n",
            "Epoch [6 /6] Training Loss: 2.081 Training Accuracy: 19.136\n",
            "Epoch [6 /6] Validation Loss: 2.039 Validation Accuracy: 23.463\n",
            "Test Accuracy: 23.64\n",
            "Model optimized with Adam finished training\n"
          ],
          "name": "stdout"
        }
      ]
    },
    {
      "cell_type": "markdown",
      "metadata": {
        "id": "bZPfEka1TnGU",
        "colab_type": "text"
      },
      "source": [
        "**For each, plot the training and validation losses versus number of iterations or epochs and compare test accuracies**"
      ]
    },
    {
      "cell_type": "code",
      "metadata": {
        "id": "X14NOMtkTnGV",
        "colab_type": "code",
        "colab": {},
        "outputId": "ec4dcfa4-5e98-497b-8740-9b22b5d8635b"
      },
      "source": [
        "# Compare test accuracies\n",
        "print(\"Test accuracy of model with BatchNorm: {}\".format(dropout_model_accuracy))\n",
        "print(\"Test accuracy of model without BatchNorm: {}\".format(no_dropout_model_accuracy))\n",
        "\n",
        "fig = plt.figure()\n",
        "axes = plt.subplot(111)\n",
        "axes.plot(sgd_model_metrics[\"losses_epoch_train\"],color=\"r\",linestyle=\"-\" ,label='Optimized with SGD+Momentum Training')\n",
        "axes.plot(sgd_model_metrics[\"losses_epoch_val\"],color=\"b\",linestyle=\"--\" ,label='Optimized with SGD+Momentum Validation')\n",
        "axes.plot(adam_model_metrics[\"losses_epoch_train\"],color=\"g\",linestyle=\"-\" ,label='Optimized with Adam Training')\n",
        "axes.plot(adam_model_metrics[\"losses_epoch_val\"],color=\"y\",linestyle=\"--\" ,label='Optimized with Adam Validation')\n",
        "axes.set_xlabel(\"Epochs\")\n",
        "axes.set_ylabel(\"Loss\")\n",
        "axes.legend()\n",
        "axes.set_title(\"Models optimized with different optimizers\")\n",
        "plt.show()"
      ],
      "execution_count": 24,
      "outputs": [
        {
          "output_type": "stream",
          "text": [
            "Test accuracy of model with BatchNorm: 32.2\n",
            "Test accuracy of model without BatchNorm: 32.64\n"
          ],
          "name": "stdout"
        },
        {
          "output_type": "display_data",
          "data": {
            "image/png": "[encoded data removed]",
            "text/plain": [
              "<Figure size 432x288 with 1 Axes>"
            ]
          },
          "metadata": {
            "tags": [],
            "needs_background": "light"
          }
        }
      ]
    },
    {
      "cell_type": "markdown",
      "metadata": {
        "id": "88kC47odTnGY",
        "colab_type": "text"
      },
      "source": [
        "From the results SGD+Momentum gave better results but I believe there is an error because in general Adam optimizers perform better training but due to model or the dataset SGD performed better than Adam.\n",
        "\n",
        "This problem can be due to the my model\n"
      ]
    },
    {
      "cell_type": "markdown",
      "metadata": {
        "id": "xqbOMaVfTnGZ",
        "colab_type": "text"
      },
      "source": [
        "#### After you have completed the training, save your best model using the following command\n",
        "#### Upload your best model to Google Drive and copy your link here: *https://drive.google.com/file/d/1IE7gGRyoPV7Fco4MlBDFw94Ln8kIa9F_/view?usp=sharing*"
      ]
    },
    {
      "cell_type": "code",
      "metadata": {
        "id": "7TtdPJ4JTnGc",
        "colab_type": "code",
        "colab": {}
      },
      "source": [
        "# Now we chose the best model which is DenseNet121\n",
        "# Final training with more epochs will be made and result will be uploaded to Google Drive"
      ],
      "execution_count": 25,
      "outputs": []
    },
    {
      "cell_type": "code",
      "metadata": {
        "id": "NC8NcR2hTnGe",
        "colab_type": "code",
        "colab": {}
      },
      "source": [
        "# My best model is the DenseNet121 therefore i will use the densenet121 as best model\n",
        "model = densenet\n",
        "student_id = 504191504\n",
        "torch.save(model.state_dict(), '{}.pth'.format(student_id))"
      ],
      "execution_count": 26,
      "outputs": []
    },
    {
      "cell_type": "code",
      "metadata": {
        "id": "4TRc5Aj1TnGh",
        "colab_type": "code",
        "colab": {}
      },
      "source": [
        ""
      ],
      "execution_count": 27,
      "outputs": []
    }
  ]
}